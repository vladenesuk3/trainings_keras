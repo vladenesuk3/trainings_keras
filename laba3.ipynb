{
 "cells": [
  {
   "cell_type": "markdown",
   "id": "67fa6025",
   "metadata": {},
   "source": [
    "импортим нужные библиотеки"
   ]
  },
  {
   "cell_type": "code",
   "execution_count": 1,
   "id": "ce3a90b2",
   "metadata": {},
   "outputs": [],
   "source": [
    "import tensorflow as tf\n",
    "import numpy as np\n",
    "import matplotlib.pyplot as plt\n",
    "from tensorflow import keras"
   ]
  },
  {
   "cell_type": "markdown",
   "id": "6a576401",
   "metadata": {},
   "source": [
    "загружаем мнист"
   ]
  },
  {
   "cell_type": "code",
   "execution_count": 2,
   "id": "513953ad",
   "metadata": {},
   "outputs": [
    {
     "data": {
      "text/plain": [
       "((60000, 28, 28), (10000,))"
      ]
     },
     "execution_count": 2,
     "metadata": {},
     "output_type": "execute_result"
    }
   ],
   "source": [
    "(train_images, train_labels), (test_images, test_labels) = keras.datasets.mnist.load_data()\n",
    "train_images.shape, test_labels.shape"
   ]
  },
  {
   "cell_type": "markdown",
   "id": "5c4d8b67",
   "metadata": {},
   "source": [
    "выводим 1 картинку"
   ]
  },
  {
   "cell_type": "code",
   "execution_count": 3,
   "id": "f7425ee4",
   "metadata": {},
   "outputs": [
    {
     "data": {
      "image/png": "[encoded data removed]",
      "text/plain": [
       "<Figure size 432x288 with 2 Axes>"
      ]
     },
     "metadata": {
      "needs_background": "light"
     },
     "output_type": "display_data"
    }
   ],
   "source": [
    "plt.figure()\n",
    "plt.imshow(train_images[0])\n",
    "plt.colorbar()\n",
    "plt.grid(False)\n",
    "plt.show()"
   ]
  },
  {
   "cell_type": "markdown",
   "id": "5962b207",
   "metadata": {},
   "source": [
    "разделяем наш дата сет на тренировочные и проверочные данные в отношении 4 к 1"
   ]
  },
  {
   "cell_type": "code",
   "execution_count": 4,
   "id": "611272c0",
   "metadata": {},
   "outputs": [
    {
     "data": {
      "text/plain": [
       "((56000, 784), (14000, 784), (56000, 10), (14000, 10))"
      ]
     },
     "execution_count": 4,
     "metadata": {},
     "output_type": "execute_result"
    }
   ],
   "source": [
    "from sklearn.model_selection import train_test_split\n",
    "train_images = train_images.astype(np.float32).reshape(-1, 28*28)/255.0\n",
    "test_images = test_images.astype(np.float32).reshape(-1, 28*28)/255.0\n",
    "train_labels = keras.utils.to_categorical(train_labels, 10)\n",
    "test_labels = keras.utils.to_categorical(test_labels, 10)\n",
    "train_labels = train_labels.astype(np.int32)\n",
    "test_labels = test_labels.astype(np.int32)\n",
    "Xdata = np.concatenate([train_images, test_images])\n",
    "Ydata = np.concatenate([train_labels, test_labels])\n",
    "train_images, test_images, train_labels, test_labels = train_test_split(Xdata, Ydata, test_size=0.2)\n",
    "train_images.shape, test_images.shape, train_labels.shape, test_labels.shape"
   ]
  },
  {
   "cell_type": "markdown",
   "id": "d90fec6d",
   "metadata": {},
   "source": [
    "пишем сетку с 2 слоями и активатором softmax"
   ]
  },
  {
   "cell_type": "code",
   "execution_count": 5,
   "id": "371c87fa",
   "metadata": {},
   "outputs": [
    {
     "name": "stdout",
     "output_type": "stream",
     "text": [
      "Model: \"Model\"\n",
      "_________________________________________________________________\n",
      " Layer (type)                Output Shape              Param #   \n",
      "=================================================================\n",
      " layer1 (Dense)              (None, 128)               100480    \n",
      "                                                                 \n",
      " logits (Dense)              (None, 10)                1290      \n",
      "                                                                 \n",
      "=================================================================\n",
      "Total params: 101,770\n",
      "Trainable params: 101,770\n",
      "Non-trainable params: 0\n",
      "_________________________________________________________________\n"
     ]
    }
   ],
   "source": [
    "model_first = keras.Sequential([keras.Input(shape=(28*28)),\n",
    "     tf.keras.layers.Dense(128,name='layer1',activation='relu'),\n",
    "     tf.keras.layers.Dense(10,name='logits', activation='softmax')],name='Model')\n",
    "model_first.summary()"
   ]
  },
  {
   "cell_type": "markdown",
   "id": "4e425aa1",
   "metadata": {},
   "source": [
    "инициализируем некоторые переменные для удобства"
   ]
  },
  {
   "cell_type": "code",
   "execution_count": 6,
   "id": "a4e6ed9d",
   "metadata": {},
   "outputs": [],
   "source": [
    "import tensorflow_addons as tfa\n",
    "learning_rate = 0.01\n",
    "crossentropy = keras.losses.CategoricalCrossentropy()\n",
    "optimizer = keras.optimizers.SGD(learning_rate=learning_rate)\n",
    "accuracy = keras.metrics.CategoricalAccuracy()\n",
    "auc_score = keras.metrics.AUC()\n",
    "f1_score = tfa.metrics.F1Score(num_classes=len(train_labels[0]))"
   ]
  },
  {
   "cell_type": "markdown",
   "id": "e4f532a7",
   "metadata": {},
   "source": [
    "компилим и обучаем данные "
   ]
  },
  {
   "cell_type": "code",
   "execution_count": 7,
   "id": "08a0d1ea",
   "metadata": {},
   "outputs": [
    {
     "name": "stdout",
     "output_type": "stream",
     "text": [
      "Epoch 1/10\n",
      "800/800 [==============================] - 3s 3ms/step - loss: 0.9401 - categorical_accuracy: 0.7733 - auc: 0.9654 - f1_score: 0.7664 - val_loss: 0.5115 - val_categorical_accuracy: 0.8724 - val_auc: 0.9875 - val_f1_score: 0.8696\n",
      "Epoch 2/10\n",
      "800/800 [==============================] - 2s 2ms/step - loss: 0.4439 - categorical_accuracy: 0.8824 - auc: 0.9892 - f1_score: 0.8805 - val_loss: 0.3896 - val_categorical_accuracy: 0.8961 - val_auc: 0.9908 - val_f1_score: 0.8941\n",
      "Epoch 3/10\n",
      "800/800 [==============================] - 2s 2ms/step - loss: 0.3699 - categorical_accuracy: 0.8985 - auc: 0.9912 - f1_score: 0.8970 - val_loss: 0.3456 - val_categorical_accuracy: 0.9057 - val_auc: 0.9919 - val_f1_score: 0.9037\n",
      "Epoch 4/10\n",
      "800/800 [==============================] - 2s 2ms/step - loss: 0.3347 - categorical_accuracy: 0.9067 - auc: 0.9922 - f1_score: 0.9055 - val_loss: 0.3197 - val_categorical_accuracy: 0.9106 - val_auc: 0.9925 - val_f1_score: 0.9088\n",
      "Epoch 5/10\n",
      "800/800 [==============================] - 2s 2ms/step - loss: 0.3117 - categorical_accuracy: 0.9127 - auc: 0.9928 - f1_score: 0.9116 - val_loss: 0.3016 - val_categorical_accuracy: 0.9161 - val_auc: 0.9930 - val_f1_score: 0.9146\n",
      "Epoch 6/10\n",
      "800/800 [==============================] - 2s 2ms/step - loss: 0.2943 - categorical_accuracy: 0.9176 - auc: 0.9933 - f1_score: 0.9165 - val_loss: 0.2859 - val_categorical_accuracy: 0.9196 - val_auc: 0.9934 - val_f1_score: 0.9181\n",
      "Epoch 7/10\n",
      "800/800 [==============================] - 2s 2ms/step - loss: 0.2800 - categorical_accuracy: 0.9209 - auc: 0.9938 - f1_score: 0.9199 - val_loss: 0.2733 - val_categorical_accuracy: 0.9232 - val_auc: 0.9939 - val_f1_score: 0.9217\n",
      "Epoch 8/10\n",
      "800/800 [==============================] - 2s 2ms/step - loss: 0.2674 - categorical_accuracy: 0.9249 - auc: 0.9943 - f1_score: 0.9241 - val_loss: 0.2644 - val_categorical_accuracy: 0.9254 - val_auc: 0.9942 - val_f1_score: 0.9241\n",
      "Epoch 9/10\n",
      "800/800 [==============================] - 2s 2ms/step - loss: 0.2563 - categorical_accuracy: 0.9283 - auc: 0.9946 - f1_score: 0.9275 - val_loss: 0.2523 - val_categorical_accuracy: 0.9286 - val_auc: 0.9946 - val_f1_score: 0.9273\n",
      "Epoch 10/10\n",
      "800/800 [==============================] - 2s 2ms/step - loss: 0.2462 - categorical_accuracy: 0.9314 - auc: 0.9949 - f1_score: 0.9307 - val_loss: 0.2440 - val_categorical_accuracy: 0.9324 - val_auc: 0.9948 - val_f1_score: 0.9312\n"
     ]
    },
    {
     "data": {
      "text/plain": [
       "<keras.callbacks.History at 0x287b21d7ee0>"
      ]
     },
     "execution_count": 7,
     "metadata": {},
     "output_type": "execute_result"
    }
   ],
   "source": [
    "model_first.compile(loss=crossentropy, optimizer=optimizer,metrics=[accuracy,auc_score,f1_score])\n",
    "model_first.fit(train_images,train_labels,batch_size=70,epochs=10,validation_data=(test_images,test_labels))"
   ]
  },
  {
   "cell_type": "code",
   "execution_count": 8,
   "id": "225fed30",
   "metadata": {},
   "outputs": [
    {
     "name": "stdout",
     "output_type": "stream",
     "text": [
      "Epoch 1/10\n",
      "800/800 [==============================] - 2s 2ms/step - loss: 0.2371 - categorical_accuracy: 0.9340 - auc: 0.9952 - f1_score: 0.9332 - val_loss: 0.2361 - val_categorical_accuracy: 0.9328 - val_auc: 0.9951 - val_f1_score: 0.9317\n",
      "Epoch 2/10\n",
      "800/800 [==============================] - 2s 2ms/step - loss: 0.2287 - categorical_accuracy: 0.9360 - auc: 0.9955 - f1_score: 0.9353 - val_loss: 0.2283 - val_categorical_accuracy: 0.9359 - val_auc: 0.9954 - val_f1_score: 0.9349\n",
      "Epoch 3/10\n",
      "800/800 [==============================] - 2s 2ms/step - loss: 0.2208 - categorical_accuracy: 0.9379 - auc: 0.9958 - f1_score: 0.9373 - val_loss: 0.2231 - val_categorical_accuracy: 0.9374 - val_auc: 0.9956 - val_f1_score: 0.9364\n",
      "Epoch 4/10\n",
      "800/800 [==============================] - 2s 2ms/step - loss: 0.2137 - categorical_accuracy: 0.9402 - auc: 0.9960 - f1_score: 0.9395 - val_loss: 0.2157 - val_categorical_accuracy: 0.9388 - val_auc: 0.9958 - val_f1_score: 0.9379\n",
      "Epoch 5/10\n",
      "800/800 [==============================] - 2s 3ms/step - loss: 0.2070 - categorical_accuracy: 0.9419 - auc: 0.9962 - f1_score: 0.9413 - val_loss: 0.2093 - val_categorical_accuracy: 0.9409 - val_auc: 0.9960 - val_f1_score: 0.9400\n",
      "Epoch 6/10\n",
      "800/800 [==============================] - 2s 3ms/step - loss: 0.2009 - categorical_accuracy: 0.9436 - auc: 0.9964 - f1_score: 0.9430 - val_loss: 0.2043 - val_categorical_accuracy: 0.9419 - val_auc: 0.9962 - val_f1_score: 0.9411\n",
      "Epoch 7/10\n",
      "800/800 [==============================] - 2s 3ms/step - loss: 0.1949 - categorical_accuracy: 0.9451 - auc: 0.9966 - f1_score: 0.9445 - val_loss: 0.1989 - val_categorical_accuracy: 0.9435 - val_auc: 0.9964 - val_f1_score: 0.9427\n",
      "Epoch 8/10\n",
      "800/800 [==============================] - 2s 2ms/step - loss: 0.1896 - categorical_accuracy: 0.9467 - auc: 0.9967 - f1_score: 0.9462 - val_loss: 0.1939 - val_categorical_accuracy: 0.9461 - val_auc: 0.9965 - val_f1_score: 0.9453\n",
      "Epoch 9/10\n",
      "800/800 [==============================] - 2s 3ms/step - loss: 0.1846 - categorical_accuracy: 0.9478 - auc: 0.9969 - f1_score: 0.9473 - val_loss: 0.1893 - val_categorical_accuracy: 0.9464 - val_auc: 0.9967 - val_f1_score: 0.9456\n",
      "Epoch 10/10\n",
      "800/800 [==============================] - 2s 3ms/step - loss: 0.1797 - categorical_accuracy: 0.9490 - auc: 0.9970 - f1_score: 0.9485 - val_loss: 0.1858 - val_categorical_accuracy: 0.9473 - val_auc: 0.9968 - val_f1_score: 0.9465\n"
     ]
    }
   ],
   "source": [
    "history_model_first = model_first.fit(train_images,train_labels,batch_size=70,epochs=10,validation_data=(test_images,test_labels))"
   ]
  },
  {
   "cell_type": "markdown",
   "id": "45b7bb7e",
   "metadata": {},
   "source": [
    "выводим графики через history для примера с tensorboard"
   ]
  },
  {
   "cell_type": "code",
   "execution_count": 9,
   "id": "389603ed",
   "metadata": {},
   "outputs": [
    {
     "data": {
      "image/png": "[encoded data removed]",
      "text/plain": [
       "<Figure size 432x288 with 1 Axes>"
      ]
     },
     "metadata": {
      "needs_background": "light"
     },
     "output_type": "display_data"
    }
   ],
   "source": [
    "plt.plot(history_model_first.history['loss'], label='loss train data')\n",
    "plt.plot(history_model_first.history['val_loss'], label='loss test data')\n",
    "plt.ylabel('loss')\n",
    "plt.xlabel('epoch')\n",
    "plt.legend()\n",
    "plt.show()"
   ]
  },
  {
   "cell_type": "code",
   "execution_count": 10,
   "id": "f0e48f0b",
   "metadata": {},
   "outputs": [
    {
     "data": {
      "image/png": "[encoded data removed]",
      "text/plain": [
       "<Figure size 432x288 with 1 Axes>"
      ]
     },
     "metadata": {
      "needs_background": "light"
     },
     "output_type": "display_data"
    }
   ],
   "source": [
    "plt.plot(history_model_first.history['categorical_accuracy'], label='categorical_accuracy train data')\n",
    "plt.plot(history_model_first.history['val_categorical_accuracy'], label='categorical_accuracy test data')\n",
    "plt.ylabel('categorical_accuracy')\n",
    "plt.xlabel('epoch')\n",
    "plt.legend()\n",
    "plt.show()"
   ]
  },
  {
   "cell_type": "markdown",
   "id": "96d2414c",
   "metadata": {},
   "source": [
    "**Реализуем модель с несколькими скрытыми шарами**"
   ]
  },
  {
   "cell_type": "code",
   "execution_count": 11,
   "id": "47a1a7a9",
   "metadata": {},
   "outputs": [
    {
     "name": "stdout",
     "output_type": "stream",
     "text": [
      "Epoch 1/10\n",
      "800/800 [==============================] - 4s 4ms/step - loss: 0.7677 - categorical_accuracy: 0.8346 - auc: 0.9803 - f1_score: 0.8327 - val_loss: 0.3951 - val_categorical_accuracy: 0.8907 - val_auc: 0.9907 - val_f1_score: 0.8888\n",
      "Epoch 2/10\n",
      "800/800 [==============================] - 3s 4ms/step - loss: 0.3462 - categorical_accuracy: 0.9037 - auc: 0.9919 - f1_score: 0.9025 - val_loss: 0.3076 - val_categorical_accuracy: 0.9139 - val_auc: 0.9927 - val_f1_score: 0.9127\n",
      "Epoch 3/10\n",
      "800/800 [==============================] - 3s 4ms/step - loss: 0.2897 - categorical_accuracy: 0.9182 - auc: 0.9935 - f1_score: 0.9172 - val_loss: 0.2717 - val_categorical_accuracy: 0.9233 - val_auc: 0.9938 - val_f1_score: 0.9222\n",
      "Epoch 4/10\n",
      "800/800 [==============================] - 3s 4ms/step - loss: 0.2579 - categorical_accuracy: 0.9271 - auc: 0.9945 - f1_score: 0.9264 - val_loss: 0.2464 - val_categorical_accuracy: 0.9292 - val_auc: 0.9947 - val_f1_score: 0.9282\n",
      "Epoch 5/10\n",
      "800/800 [==============================] - 3s 4ms/step - loss: 0.2341 - categorical_accuracy: 0.9342 - auc: 0.9953 - f1_score: 0.9335 - val_loss: 0.2276 - val_categorical_accuracy: 0.9351 - val_auc: 0.9953 - val_f1_score: 0.9343\n",
      "Epoch 6/10\n",
      "800/800 [==============================] - 3s 4ms/step - loss: 0.2148 - categorical_accuracy: 0.9391 - auc: 0.9959 - f1_score: 0.9386 - val_loss: 0.2113 - val_categorical_accuracy: 0.9393 - val_auc: 0.9958 - val_f1_score: 0.9385\n",
      "Epoch 7/10\n",
      "800/800 [==============================] - 3s 4ms/step - loss: 0.1985 - categorical_accuracy: 0.9439 - auc: 0.9963 - f1_score: 0.9434 - val_loss: 0.1970 - val_categorical_accuracy: 0.9424 - val_auc: 0.9964 - val_f1_score: 0.9418\n",
      "Epoch 8/10\n",
      "800/800 [==============================] - 3s 4ms/step - loss: 0.1850 - categorical_accuracy: 0.9474 - auc: 0.9967 - f1_score: 0.9470 - val_loss: 0.1858 - val_categorical_accuracy: 0.9462 - val_auc: 0.9964 - val_f1_score: 0.9455\n",
      "Epoch 9/10\n",
      "800/800 [==============================] - 4s 5ms/step - loss: 0.1733 - categorical_accuracy: 0.9512 - auc: 0.9971 - f1_score: 0.9508 - val_loss: 0.1766 - val_categorical_accuracy: 0.9475 - val_auc: 0.9968 - val_f1_score: 0.9469\n",
      "Epoch 10/10\n",
      "800/800 [==============================] - 3s 4ms/step - loss: 0.1626 - categorical_accuracy: 0.9535 - auc: 0.9974 - f1_score: 0.9531 - val_loss: 0.1696 - val_categorical_accuracy: 0.9506 - val_auc: 0.9970 - val_f1_score: 0.9500\n"
     ]
    },
    {
     "data": {
      "text/plain": [
       "<keras.callbacks.History at 0x287b77a4c10>"
      ]
     },
     "execution_count": 11,
     "metadata": {},
     "output_type": "execute_result"
    }
   ],
   "source": [
    "he_initializer = tf.keras.initializers.HeNormal()\n",
    "model_second = tf.keras.Sequential([\n",
    "    tf.keras.Input(shape=(28*28)),\n",
    "    tf.keras.layers.Dense(256, name='layer1', activation='relu', kernel_initializer=he_initializer),\n",
    "    tf.keras.layers.Dense(128, name='layer2', activation='relu', kernel_initializer=he_initializer),\n",
    "    tf.keras.layers.Dense(10, name='logits', activation='softmax')\n",
    "])\n",
    "model_second.compile(loss=crossentropy, optimizer=optimizer,metrics=[accuracy,auc_score,f1_score])\n",
    "model_second.fit(train_images,train_labels,batch_size=70,epochs=10,validation_data=(test_images,test_labels))"
   ]
  },
  {
   "cell_type": "markdown",
   "id": "396162a6",
   "metadata": {},
   "source": [
    "**модель обучилась лучше нежели традиионная модель, по этому будем использовать модель HE**"
   ]
  },
  {
   "cell_type": "code",
   "execution_count": 12,
   "id": "0c4d1420",
   "metadata": {},
   "outputs": [
    {
     "name": "stdout",
     "output_type": "stream",
     "text": [
      "Epoch 1/10\n",
      "800/800 [==============================] - 3s 4ms/step - loss: 0.1530 - categorical_accuracy: 0.9560 - auc: 0.9976 - f1_score: 0.9557 - val_loss: 0.1600 - val_categorical_accuracy: 0.9533 - val_auc: 0.9973 - val_f1_score: 0.9528\n",
      "Epoch 2/10\n",
      "800/800 [==============================] - 3s 4ms/step - loss: 0.1448 - categorical_accuracy: 0.9587 - auc: 0.9978 - f1_score: 0.9584 - val_loss: 0.1541 - val_categorical_accuracy: 0.9544 - val_auc: 0.9974 - val_f1_score: 0.9538\n",
      "Epoch 3/10\n",
      "800/800 [==============================] - 3s 4ms/step - loss: 0.1373 - categorical_accuracy: 0.9611 - auc: 0.9979 - f1_score: 0.9608 - val_loss: 0.1483 - val_categorical_accuracy: 0.9564 - val_auc: 0.9975 - val_f1_score: 0.9558\n",
      "Epoch 4/10\n",
      "800/800 [==============================] - 6s 8ms/step - loss: 0.1307 - categorical_accuracy: 0.9626 - auc: 0.9982 - f1_score: 0.9623 - val_loss: 0.1425 - val_categorical_accuracy: 0.9586 - val_auc: 0.9977 - val_f1_score: 0.9581\n",
      "Epoch 5/10\n",
      "800/800 [==============================] - 6s 7ms/step - loss: 0.1246 - categorical_accuracy: 0.9646 - auc: 0.9983 - f1_score: 0.9644 - val_loss: 0.1382 - val_categorical_accuracy: 0.9599 - val_auc: 0.9978 - val_f1_score: 0.9594\n",
      "Epoch 6/10\n",
      "800/800 [==============================] - 5s 6ms/step - loss: 0.1185 - categorical_accuracy: 0.9659 - auc: 0.9984 - f1_score: 0.9657 - val_loss: 0.1333 - val_categorical_accuracy: 0.9606 - val_auc: 0.9979 - val_f1_score: 0.9601\n",
      "Epoch 7/10\n",
      "800/800 [==============================] - 3s 4ms/step - loss: 0.1135 - categorical_accuracy: 0.9677 - auc: 0.9986 - f1_score: 0.9675 - val_loss: 0.1275 - val_categorical_accuracy: 0.9634 - val_auc: 0.9980 - val_f1_score: 0.9630\n",
      "Epoch 8/10\n",
      "800/800 [==============================] - 5s 6ms/step - loss: 0.1087 - categorical_accuracy: 0.9690 - auc: 0.9987 - f1_score: 0.9688 - val_loss: 0.1252 - val_categorical_accuracy: 0.9635 - val_auc: 0.9980 - val_f1_score: 0.9631\n",
      "Epoch 9/10\n",
      "800/800 [==============================] - 5s 6ms/step - loss: 0.1041 - categorical_accuracy: 0.9706 - auc: 0.9988 - f1_score: 0.9704 - val_loss: 0.1214 - val_categorical_accuracy: 0.9653 - val_auc: 0.9981 - val_f1_score: 0.9649\n",
      "Epoch 10/10\n",
      "800/800 [==============================] - 5s 6ms/step - loss: 0.0998 - categorical_accuracy: 0.9717 - auc: 0.9989 - f1_score: 0.9715 - val_loss: 0.1175 - val_categorical_accuracy: 0.9665 - val_auc: 0.9982 - val_f1_score: 0.9661\n"
     ]
    }
   ],
   "source": [
    "history_model_second = model_second.fit(train_images, train_labels, batch_size=70, epochs=10, validation_data=(test_images,test_labels))"
   ]
  },
  {
   "cell_type": "markdown",
   "id": "b7f47f83",
   "metadata": {},
   "source": [
    "выводим ключи от функции history, что бы увидеть какие ключи можно использовать "
   ]
  },
  {
   "cell_type": "code",
   "execution_count": 13,
   "id": "e3f53474",
   "metadata": {},
   "outputs": [
    {
     "data": {
      "text/plain": [
       "dict_keys(['loss', 'categorical_accuracy', 'auc', 'f1_score', 'val_loss', 'val_categorical_accuracy', 'val_auc', 'val_f1_score'])"
      ]
     },
     "execution_count": 13,
     "metadata": {},
     "output_type": "execute_result"
    }
   ],
   "source": [
    "history_model_second.history.keys()"
   ]
  },
  {
   "cell_type": "markdown",
   "id": "89a80916",
   "metadata": {},
   "source": [
    "графики через history:"
   ]
  },
  {
   "cell_type": "code",
   "execution_count": 14,
   "id": "f7ad2166",
   "metadata": {},
   "outputs": [
    {
     "data": {
      "image/png": "[encoded data removed]",
      "text/plain": [
       "<Figure size 432x288 with 1 Axes>"
      ]
     },
     "metadata": {
      "needs_background": "light"
     },
     "output_type": "display_data"
    }
   ],
   "source": [
    "plt.plot(history_model_second.history['loss'], label='loss train data')\n",
    "plt.plot(history_model_second.history['val_loss'], label='loss test data')\n",
    "plt.ylabel('loss')\n",
    "plt.xlabel('epoch')\n",
    "plt.legend()\n",
    "plt.show()"
   ]
  },
  {
   "cell_type": "code",
   "execution_count": 15,
   "id": "df14a42d",
   "metadata": {},
   "outputs": [
    {
     "data": {
      "image/png": "[encoded data removed]",
      "text/plain": [
       "<Figure size 432x288 with 1 Axes>"
      ]
     },
     "metadata": {
      "needs_background": "light"
     },
     "output_type": "display_data"
    }
   ],
   "source": [
    "plt.plot(history_model_second.history['categorical_accuracy'], label='categorical_accuracy train data')\n",
    "plt.plot(history_model_second.history['val_categorical_accuracy'], label='categorical_accuracy test data')\n",
    "plt.ylabel('categorical_accuracy')\n",
    "plt.xlabel('epoch')\n",
    "plt.legend()\n",
    "plt.show()"
   ]
  },
  {
   "cell_type": "markdown",
   "id": "4ea32161",
   "metadata": {},
   "source": [
    "load_ext tensorboard нам нужен для загрузки расширения для tensorboard"
   ]
  },
  {
   "cell_type": "code",
   "execution_count": 16,
   "id": "34f30f29",
   "metadata": {},
   "outputs": [],
   "source": [
    "%load_ext tensorboard"
   ]
  },
  {
   "cell_type": "markdown",
   "id": "5f79e13f",
   "metadata": {},
   "source": [
    "**Тестим разную скорость обучния**"
   ]
  },
  {
   "cell_type": "code",
   "execution_count": 17,
   "id": "6442f7c2",
   "metadata": {},
   "outputs": [
    {
     "name": "stdout",
     "output_type": "stream",
     "text": [
      "Training ... With default parameters, this takes less than 10 seconds.\n",
      "Average test loss:  0.1402480598539114\n"
     ]
    }
   ],
   "source": [
    "logdir = \"logs/loss_test/\" + 'loss_test_0.1'\n",
    "tensorboard_callback = keras.callbacks.TensorBoard(log_dir=logdir)\n",
    "\n",
    "model_lr_0_1 = keras.Sequential([keras.Input(shape=(28*28)),\n",
    "     tf.keras.layers.Dense(128,name='layer1',activation='relu'),\n",
    "     tf.keras.layers.Dense(10,name='logits', activation='softmax')] ,name='Model')\n",
    "\n",
    "model_lr_0_1.compile(\n",
    "    loss=crossentropy, # keras.losses.mean_squared_error\n",
    "    optimizer=keras.optimizers.SGD(learning_rate=0.1),\n",
    ")\n",
    "\n",
    "print(\"Training ... With default parameters, this takes less than 10 seconds.\")\n",
    "training_history = model_lr_0_1.fit(\n",
    "    train_images, # input\n",
    "    train_labels, # output\n",
    "    batch_size=70,\n",
    "    verbose=0, # Suppress chatty output; use Tensorboard instead\n",
    "    epochs=10,\n",
    "    validation_data=(test_images, test_labels),\n",
    "    callbacks=[tensorboard_callback],\n",
    ")\n",
    "\n",
    "print(\"Average test loss: \", np.average(training_history.history['loss']))"
   ]
  },
  {
   "cell_type": "code",
   "execution_count": 18,
   "id": "73ed5a7d",
   "metadata": {},
   "outputs": [
    {
     "name": "stdout",
     "output_type": "stream",
     "text": [
      "Training ... With default parameters, this takes less than 10 seconds.\n",
      "Average test loss:  0.3724361002445221\n"
     ]
    }
   ],
   "source": [
    "logdir = \"logs/loss_test/\" + 'loss_test_0.01'\n",
    "tensorboard_callback = keras.callbacks.TensorBoard(log_dir=logdir)\n",
    "\n",
    "model_lr_0_01 = keras.Sequential([keras.Input(shape=(28*28)),\n",
    "     tf.keras.layers.Dense(128,name='layer1',activation='relu'),\n",
    "     tf.keras.layers.Dense(10,name='logits', activation='softmax')] ,name='Model')\n",
    "\n",
    "model_lr_0_01.compile(\n",
    "    loss=crossentropy, # keras.losses.mean_squared_error\n",
    "    optimizer=keras.optimizers.SGD(learning_rate=0.01),\n",
    ")\n",
    "\n",
    "print(\"Training ... With default parameters, this takes less than 10 seconds.\")\n",
    "training_history = model_lr_0_01.fit(\n",
    "    train_images, # input\n",
    "    train_labels, # output\n",
    "    batch_size=70,\n",
    "    verbose=0, # Suppress chatty output; use Tensorboard instead\n",
    "    epochs=10,\n",
    "    validation_data=(test_images, test_labels),\n",
    "    callbacks=[tensorboard_callback],\n",
    ")\n",
    "\n",
    "print(\"Average test loss: \", np.average(training_history.history['loss']))"
   ]
  },
  {
   "cell_type": "code",
   "execution_count": 19,
   "id": "456e340e",
   "metadata": {},
   "outputs": [
    {
     "name": "stdout",
     "output_type": "stream",
     "text": [
      "Training ... With default parameters, this takes less than 10 seconds.\n",
      "Average test loss:  0.47034204602241514\n"
     ]
    }
   ],
   "source": [
    "logdir = \"logs/loss_test/\" + 'loss_test_0.005'\n",
    "tensorboard_callback = keras.callbacks.TensorBoard(log_dir=logdir)\n",
    "\n",
    "model_lr_0_05 = keras.Sequential([keras.Input(shape=(28*28)),\n",
    "     tf.keras.layers.Dense(128,name='layer1',activation='relu'),\n",
    "     tf.keras.layers.Dense(10,name='logits', activation='softmax')] ,name='Model')\n",
    "\n",
    "model_lr_0_05.compile(\n",
    "    loss=crossentropy, # keras.losses.mean_squared_error\n",
    "    optimizer=keras.optimizers.SGD(learning_rate=0.005),\n",
    ")\n",
    "\n",
    "print(\"Training ... With default parameters, this takes less than 10 seconds.\")\n",
    "training_history = model_lr_0_05.fit(\n",
    "    train_images, # input\n",
    "    train_labels, # output\n",
    "    batch_size=70,\n",
    "    verbose=0, # Suppress chatty output; use Tensorboard instead\n",
    "    epochs=10,\n",
    "    validation_data=(test_images, test_labels),\n",
    "    callbacks=[tensorboard_callback],\n",
    ")\n",
    "\n",
    "print(\"Average test loss: \", np.average(training_history.history['loss']))"
   ]
  },
  {
   "cell_type": "code",
   "execution_count": 20,
   "id": "f5727c37",
   "metadata": {},
   "outputs": [
    {
     "name": "stdout",
     "output_type": "stream",
     "text": [
      "Training ... With default parameters, this takes less than 10 seconds.\n",
      "Average test loss:  0.9509633719921112\n"
     ]
    }
   ],
   "source": [
    "logdir = \"logs/loss_test/\" + 'loss_test_0.001'\n",
    "tensorboard_callback = keras.callbacks.TensorBoard(log_dir=logdir)\n",
    "\n",
    "model_lr_0_001 = keras.Sequential([keras.Input(shape=(28*28)),\n",
    "     tf.keras.layers.Dense(128,name='layer1',activation='relu'),\n",
    "     tf.keras.layers.Dense(10,name='logits', activation='softmax')] ,name='Model')\n",
    "\n",
    "model_lr_0_001.compile(\n",
    "    loss=crossentropy, # keras.losses.mean_squared_error\n",
    "    optimizer=keras.optimizers.SGD(learning_rate=0.001),\n",
    ")\n",
    "\n",
    "print(\"Training ... With default parameters, this takes less than 10 seconds.\")\n",
    "training_history = model_lr_0_001.fit(\n",
    "    train_images, # input\n",
    "    train_labels, # output\n",
    "    batch_size=70,\n",
    "    verbose=0, # Suppress chatty output; use Tensorboard instead\n",
    "    epochs=10,\n",
    "    validation_data=(test_images, test_labels),\n",
    "    callbacks=[tensorboard_callback],\n",
    ")\n",
    "\n",
    "print(\"Average test loss: \", np.average(training_history.history['loss']))"
   ]
  },
  {
   "cell_type": "markdown",
   "id": "6ca8a703",
   "metadata": {},
   "source": [
    "используем тензорборд для того что бы увидеть все графики и выбрать наилучшую модель по показателям"
   ]
  },
  {
   "cell_type": "code",
   "execution_count": 21,
   "id": "61681c5f",
   "metadata": {},
   "outputs": [
    {
     "data": {
      "text/plain": [
       "Reusing TensorBoard on port 6006 (pid 16200), started 2 days, 3:05:01 ago. (Use '!kill 16200' to kill it.)"
      ]
     },
     "metadata": {},
     "output_type": "display_data"
    },
    {
     "data": {
      "text/html": [
       "\n",
       "      <iframe id=\"tensorboard-frame-39f26d42d99748ce\" width=\"100%\" height=\"800\" frameborder=\"0\">\n",
       "      </iframe>\n",
       "      <script>\n",
       "        (function() {\n",
       "          const frame = document.getElementById(\"tensorboard-frame-39f26d42d99748ce\");\n",
       "          const url = new URL(\"/\", window.location);\n",
       "          const port = 6006;\n",
       "          if (port) {\n",
       "            url.port = port;\n",
       "          }\n",
       "          frame.src = url;\n",
       "        })();\n",
       "      </script>\n",
       "    "
      ],
      "text/plain": [
       "<IPython.core.display.HTML object>"
      ]
     },
     "metadata": {},
     "output_type": "display_data"
    }
   ],
   "source": [
    "%tensorboard --logdir logs/loss_test --host localhost"
   ]
  },
  {
   "cell_type": "markdown",
   "id": "2c8aa3bb",
   "metadata": {},
   "source": [
    "**используем модель с активатором leakyrelu**"
   ]
  },
  {
   "cell_type": "code",
   "execution_count": 23,
   "id": "4b57fd3b",
   "metadata": {},
   "outputs": [
    {
     "name": "stdout",
     "output_type": "stream",
     "text": [
      "Training ... With default parameters, this takes less than 10 seconds.\n",
      "Average test loss:  0.37447370290756227\n"
     ]
    }
   ],
   "source": [
    "logdir = \"logs/loss_test/\" + 'activation_elu'\n",
    "tensorboard_callback = keras.callbacks.TensorBoard(log_dir=logdir)\n",
    "\n",
    "model_relu = keras.Sequential([keras.Input(shape=(28*28)),\n",
    "     keras.layers.LeakyReLU(),\n",
    "     keras.layers.Dense(128,name='layer2',activation='relu',kernel_initializer=he_initializer),\n",
    "     keras.layers.Dense(10,name='logits', activation='softmax')],name='model_leaky_relu')\n",
    "\n",
    "model_relu.compile(\n",
    "    loss=crossentropy, # keras.losses.mean_squared_error\n",
    "    optimizer=optimizer,\n",
    "    metrics=[accuracy, auc_score]\n",
    ")\n",
    "\n",
    "print(\"Training ... With default parameters, this takes less than 10 seconds.\")\n",
    "model_relu = model_relu.fit(\n",
    "    train_images, # input\n",
    "    train_labels, # output\n",
    "    batch_size=70,\n",
    "    verbose=0, # Suppress chatty output; use Tensorboard instead\n",
    "    epochs=10,\n",
    "    validation_data=(test_images, test_labels),\n",
    "    callbacks=[tensorboard_callback],\n",
    ")\n",
    "\n",
    "print(\"Average test loss: \", np.average(model_relu.history['loss']))"
   ]
  },
  {
   "cell_type": "code",
   "execution_count": 24,
   "id": "83f1ccdf",
   "metadata": {},
   "outputs": [
    {
     "data": {
      "text/plain": [
       "Reusing TensorBoard on port 6006 (pid 12088), started 13:36:58 ago. (Use '!kill 12088' to kill it.)"
      ]
     },
     "metadata": {},
     "output_type": "display_data"
    },
    {
     "data": {
      "text/html": [
       "\n",
       "      <iframe id=\"tensorboard-frame-37fa92e50f327fb3\" width=\"100%\" height=\"800\" frameborder=\"0\">\n",
       "      </iframe>\n",
       "      <script>\n",
       "        (function() {\n",
       "          const frame = document.getElementById(\"tensorboard-frame-37fa92e50f327fb3\");\n",
       "          const url = new URL(\"/\", window.location);\n",
       "          const port = 6006;\n",
       "          if (port) {\n",
       "            url.port = port;\n",
       "          }\n",
       "          frame.src = url;\n",
       "        })();\n",
       "      </script>\n",
       "    "
      ],
      "text/plain": [
       "<IPython.core.display.HTML object>"
      ]
     },
     "metadata": {},
     "output_type": "display_data"
    }
   ],
   "source": [
    "%tensorboard --logdir logs/loss_test"
   ]
  },
  {
   "cell_type": "markdown",
   "id": "fe8fc616",
   "metadata": {},
   "source": [
    "у меня не получилось удалять все предыдущие раны, по этому оставил так, прошу прощения"
   ]
  },
  {
   "cell_type": "code",
   "execution_count": 25,
   "id": "31a6a332",
   "metadata": {},
   "outputs": [
    {
     "name": "stderr",
     "output_type": "stream",
     "text": [
      "'rm' is not recognized as an internal or external command,\n",
      "operable program or batch file.\n"
     ]
    }
   ],
   "source": [
    "!rm -rf /logs/ "
   ]
  },
  {
   "cell_type": "markdown",
   "id": "16301bfc",
   "metadata": {},
   "source": [
    "**модель с оптимизатором adam**"
   ]
  },
  {
   "cell_type": "code",
   "execution_count": 26,
   "id": "251c52c4",
   "metadata": {},
   "outputs": [
    {
     "name": "stdout",
     "output_type": "stream",
     "text": [
      "Average test loss:  0.11179589256644248\n"
     ]
    }
   ],
   "source": [
    "logdir = \"logs/loss_test/\" + 'optimizer_adam'\n",
    "tensorboard_callback = keras.callbacks.TensorBoard(log_dir=logdir)\n",
    "\n",
    "optimizer = tf.keras.optimizers.Adam(learning_rate=0.01)\n",
    "model_adam = tf.keras.Sequential([\n",
    "    tf.keras.Input(shape=(28*28)),\n",
    "    keras.layers.Dense(256, name='layer1', activation='relu', kernel_initializer=he_initializer),\n",
    "    keras.layers.Dense(128, name='layer2', activation='relu', kernel_initializer=he_initializer),\n",
    "    keras.layers.Dense(10, name='logits', activation='softmax')]\n",
    ")\n",
    "model_adam.compile(loss=crossentropy, optimizer=optimizer, metrics=[accuracy, auc_score])\n",
    "model_adam_history = model_adam.fit(\n",
    "    train_images,\n",
    "    train_labels,\n",
    "    batch_size=70,\n",
    "    epochs=10,\n",
    "    verbose=0,\n",
    "    validation_data=(test_images, test_labels),\n",
    "    callbacks=[tensorboard_callback]\n",
    ")\n",
    "print(\"Average test loss: \", np.average(model_adam_history.history['loss']))"
   ]
  },
  {
   "cell_type": "markdown",
   "id": "a07ce506",
   "metadata": {},
   "source": [
    "метрими улучшись после использования адаптивного алгоритка оптимизации"
   ]
  },
  {
   "cell_type": "code",
   "execution_count": 27,
   "id": "2311b579",
   "metadata": {},
   "outputs": [
    {
     "data": {
      "text/plain": [
       "Reusing TensorBoard on port 6006 (pid 12088), started 13:37:33 ago. (Use '!kill 12088' to kill it.)"
      ]
     },
     "metadata": {},
     "output_type": "display_data"
    },
    {
     "data": {
      "text/html": [
       "\n",
       "      <iframe id=\"tensorboard-frame-8990600560c2aade\" width=\"100%\" height=\"800\" frameborder=\"0\">\n",
       "      </iframe>\n",
       "      <script>\n",
       "        (function() {\n",
       "          const frame = document.getElementById(\"tensorboard-frame-8990600560c2aade\");\n",
       "          const url = new URL(\"/\", window.location);\n",
       "          const port = 6006;\n",
       "          if (port) {\n",
       "            url.port = port;\n",
       "          }\n",
       "          frame.src = url;\n",
       "        })();\n",
       "      </script>\n",
       "    "
      ],
      "text/plain": [
       "<IPython.core.display.HTML object>"
      ]
     },
     "metadata": {},
     "output_type": "display_data"
    }
   ],
   "source": [
    "%tensorboard --logdir logs/loss_test"
   ]
  },
  {
   "cell_type": "markdown",
   "id": "398d8855",
   "metadata": {},
   "source": [
    "**модель с оптимизатором адам и мини батчами**"
   ]
  },
  {
   "cell_type": "code",
   "execution_count": 28,
   "id": "9cb28e02",
   "metadata": {},
   "outputs": [
    {
     "name": "stdout",
     "output_type": "stream",
     "text": [
      "Average test loss:  0.07582108415663243\n"
     ]
    }
   ],
   "source": [
    "logdir = \"logs/loss_test/\" + 'optimizer_adam_mini_batches'\n",
    "tensorboard_callback = keras.callbacks.TensorBoard(log_dir=logdir)\n",
    "\n",
    "model_adam_mini_batches = tf.keras.Sequential([\n",
    "    tf.keras.Input(shape=(28*28)),\n",
    "    tf.keras.layers.BatchNormalization(),\n",
    "    keras.layers.Dense(256, name='layer1', activation='relu', kernel_initializer=he_initializer),\n",
    "    tf.keras.layers.BatchNormalization(),\n",
    "    keras.layers.Dense(128, name='layer2', activation='relu', kernel_initializer=he_initializer),\n",
    "    tf.keras.layers.BatchNormalization(),\n",
    "    keras.layers.Dense(10, name='logits', activation='softmax')]\n",
    ")\n",
    "model_adam_mini_batches.compile(loss=crossentropy, optimizer=optimizer, metrics=[accuracy, auc_score])\n",
    "model_adam_mb_history = model_adam_mini_batches.fit(\n",
    "    train_images,\n",
    "    train_labels,\n",
    "    batch_size=70,\n",
    "    epochs=10,\n",
    "    verbose=0,\n",
    "    validation_data=(test_images, test_labels),\n",
    "    callbacks=[tensorboard_callback]\n",
    ")\n",
    "print(\"Average test loss: \", np.average(model_adam_mb_history.history['loss']))"
   ]
  },
  {
   "cell_type": "code",
   "execution_count": 29,
   "id": "ad1ee39a",
   "metadata": {},
   "outputs": [
    {
     "data": {
      "text/plain": [
       "Reusing TensorBoard on port 6006 (pid 12088), started 13:38:25 ago. (Use '!kill 12088' to kill it.)"
      ]
     },
     "metadata": {},
     "output_type": "display_data"
    },
    {
     "data": {
      "text/html": [
       "\n",
       "      <iframe id=\"tensorboard-frame-caae4993fb94d6f\" width=\"100%\" height=\"800\" frameborder=\"0\">\n",
       "      </iframe>\n",
       "      <script>\n",
       "        (function() {\n",
       "          const frame = document.getElementById(\"tensorboard-frame-caae4993fb94d6f\");\n",
       "          const url = new URL(\"/\", window.location);\n",
       "          const port = 6006;\n",
       "          if (port) {\n",
       "            url.port = port;\n",
       "          }\n",
       "          frame.src = url;\n",
       "        })();\n",
       "      </script>\n",
       "    "
      ],
      "text/plain": [
       "<IPython.core.display.HTML object>"
      ]
     },
     "metadata": {},
     "output_type": "display_data"
    }
   ],
   "source": [
    "%tensorboard --logdir logs/loss_test"
   ]
  },
  {
   "cell_type": "markdown",
   "id": "f3f14cd6",
   "metadata": {},
   "source": [
    "**модели с дропаутом**"
   ]
  },
  {
   "cell_type": "code",
   "execution_count": 30,
   "id": "a808c822",
   "metadata": {},
   "outputs": [
    {
     "name": "stdout",
     "output_type": "stream",
     "text": [
      "Average test loss:  0.09680658392608166\n"
     ]
    }
   ],
   "source": [
    "logdir = \"logs/loss_test/\" + 'optimizer_adam_mini_batches_with_dropout'\n",
    "tensorboard_callback = keras.callbacks.TensorBoard(log_dir=logdir)\n",
    "\n",
    "model_adam_mini_batches_with_dropout = tf.keras.Sequential([\n",
    "    tf.keras.Input(shape=(28*28)),\n",
    "    tf.keras.layers.BatchNormalization(),\n",
    "    keras.layers.Dense(256, name='layer1', activation='relu', kernel_initializer=he_initializer),\n",
    "    tf.keras.layers.BatchNormalization(),\n",
    "    tf.keras.layers.Dropout(0.2),\n",
    "    keras.layers.Dense(128, name='layer2', activation='relu', kernel_initializer=he_initializer),\n",
    "    tf.keras.layers.BatchNormalization(),\n",
    "    keras.layers.Dense(10, name='logits', activation='softmax')]\n",
    ")\n",
    "model_adam_mini_batches_with_dropout.compile(loss=crossentropy, optimizer=optimizer, metrics=[accuracy, auc_score])\n",
    "model_adam_mb_with_drop_history = model_adam_mini_batches_with_dropout.fit(\n",
    "    train_images,\n",
    "    train_labels,\n",
    "    batch_size=70,\n",
    "    epochs=10,\n",
    "    verbose=0,\n",
    "    validation_data=(test_images, test_labels),\n",
    "    callbacks=[tensorboard_callback]\n",
    ")\n",
    "print(\"Average test loss: \", np.average(model_adam_mb_with_drop_history.history['loss']))"
   ]
  },
  {
   "cell_type": "code",
   "execution_count": 31,
   "id": "14d28738",
   "metadata": {},
   "outputs": [
    {
     "name": "stdout",
     "output_type": "stream",
     "text": [
      "Average test loss:  0.08523615933954716\n"
     ]
    }
   ],
   "source": [
    "logdir = \"logs/loss_test/\" + 'optimizer_adam_mini_batches_with_dropout_2'\n",
    "tensorboard_callback = keras.callbacks.TensorBoard(log_dir=logdir)\n",
    "\n",
    "model_adam_mini_batches_with_dropout_2 = tf.keras.Sequential([\n",
    "    tf.keras.Input(shape=(28*28)),\n",
    "    tf.keras.layers.BatchNormalization(),\n",
    "    keras.layers.Dense(256, name='layer1', activation='relu', kernel_initializer=he_initializer),\n",
    "    tf.keras.layers.BatchNormalization(),\n",
    "    tf.keras.layers.Dropout(0.1),\n",
    "    keras.layers.Dense(128, name='layer2', activation='relu', kernel_initializer=he_initializer),\n",
    "    tf.keras.layers.BatchNormalization(),\n",
    "    keras.layers.Dense(10, name='logits', activation='softmax')]\n",
    ")\n",
    "model_adam_mini_batches_with_dropout_2.compile(loss=crossentropy, optimizer=optimizer, metrics=[accuracy, auc_score])\n",
    "model_adam_mb_with_drop_history_2 = model_adam_mini_batches_with_dropout_2.fit(\n",
    "    train_images,\n",
    "    train_labels,\n",
    "    batch_size=70,\n",
    "    epochs=10,\n",
    "    verbose=0,\n",
    "    validation_data=(test_images, test_labels),\n",
    "    callbacks=[tensorboard_callback]\n",
    ")\n",
    "print(\"Average test loss: \", np.average(model_adam_mb_with_drop_history_2.history['loss']))"
   ]
  },
  {
   "cell_type": "code",
   "execution_count": 32,
   "id": "eb2a669e",
   "metadata": {},
   "outputs": [
    {
     "data": {
      "text/plain": [
       "Reusing TensorBoard on port 6006 (pid 12088), started 13:40:20 ago. (Use '!kill 12088' to kill it.)"
      ]
     },
     "metadata": {},
     "output_type": "display_data"
    },
    {
     "data": {
      "text/html": [
       "\n",
       "      <iframe id=\"tensorboard-frame-95f229b56e081df2\" width=\"100%\" height=\"800\" frameborder=\"0\">\n",
       "      </iframe>\n",
       "      <script>\n",
       "        (function() {\n",
       "          const frame = document.getElementById(\"tensorboard-frame-95f229b56e081df2\");\n",
       "          const url = new URL(\"/\", window.location);\n",
       "          const port = 6006;\n",
       "          if (port) {\n",
       "            url.port = port;\n",
       "          }\n",
       "          frame.src = url;\n",
       "        })();\n",
       "      </script>\n",
       "    "
      ],
      "text/plain": [
       "<IPython.core.display.HTML object>"
      ]
     },
     "metadata": {},
     "output_type": "display_data"
    }
   ],
   "source": [
    "%tensorboard --logdir logs/loss_test"
   ]
  },
  {
   "cell_type": "markdown",
   "id": "c6eff0c3",
   "metadata": {},
   "source": [
    "**Модель с ранней остановкой**"
   ]
  },
  {
   "cell_type": "code",
   "execution_count": 33,
   "id": "4a453a25",
   "metadata": {},
   "outputs": [
    {
     "name": "stdout",
     "output_type": "stream",
     "text": [
      "Epoch 1/10\n",
      "800/800 [==============================] - 8s 8ms/step - loss: 0.2264 - categorical_accuracy: 0.9418 - auc: 0.9953 - val_loss: 0.1360 - val_categorical_accuracy: 0.9576 - val_auc: 0.9972\n",
      "Epoch 2/10\n",
      "800/800 [==============================] - 7s 9ms/step - loss: 0.1092 - categorical_accuracy: 0.9655 - auc: 0.9982 - val_loss: 0.0927 - val_categorical_accuracy: 0.9712 - val_auc: 0.9980\n",
      "Average test loss:  0.16777997836470604\n"
     ]
    }
   ],
   "source": [
    "logdir = \"logs/loss_test/\" + 'optimizer_adam_early_stop'\n",
    "tensorboard_callback = keras.callbacks.TensorBoard(log_dir=logdir)\n",
    "\n",
    "model_adam_early_stop = tf.keras.Sequential([\n",
    "    tf.keras.Input(shape=(28*28)),\n",
    "    tf.keras.layers.BatchNormalization(),\n",
    "    keras.layers.Dense(256, name='layer1', activation='relu', kernel_initializer=he_initializer),\n",
    "    tf.keras.layers.BatchNormalization(),\n",
    "    keras.layers.Dense(128, name='layer2', activation='relu', kernel_initializer=he_initializer),\n",
    "    tf.keras.layers.BatchNormalization(),\n",
    "    keras.layers.Dense(10, name='logits', activation='softmax')]\n",
    ")\n",
    "model_adam_early_stop.compile(loss=crossentropy, optimizer=optimizer, metrics=[accuracy, auc_score])\n",
    "model_adam_early_stop_history = model_adam_early_stop.fit(\n",
    "    train_images,\n",
    "    train_labels,\n",
    "    batch_size=70,\n",
    "    epochs=10,\n",
    "    verbose=1,\n",
    "    validation_data=(test_images, test_labels),\n",
    "    callbacks=[tf.keras.callbacks.EarlyStopping()]\n",
    ")\n",
    "print(\"Average test loss: \", np.average(model_adam_early_stop_history.history['loss']))"
   ]
  },
  {
   "cell_type": "markdown",
   "id": "78257955",
   "metadata": {},
   "source": [
    "данная модель имеет плохие метрики\n",
    "\n",
    "дальше идут модели и регуляризацией l1 и l2"
   ]
  },
  {
   "cell_type": "code",
   "execution_count": 34,
   "id": "e12b01f6",
   "metadata": {},
   "outputs": [
    {
     "name": "stdout",
     "output_type": "stream",
     "text": [
      "Average test loss:  4.2824198484420775\n"
     ]
    }
   ],
   "source": [
    "logdir = \"logs/loss_test/\" + 'optimizer_adam_l1'\n",
    "tensorboard_callback = keras.callbacks.TensorBoard(log_dir=logdir)\n",
    "\n",
    "model_adam_l1 = tf.keras.Sequential([\n",
    "    tf.keras.Input(shape=(28*28)),\n",
    "    tf.keras.layers.BatchNormalization(),\n",
    "    keras.layers.Dense(256, name='layer1', activation='relu', kernel_initializer=he_initializer, kernel_regularizer=tf.keras.regularizers.l1(0.01)),\n",
    "    tf.keras.layers.BatchNormalization(),\n",
    "    keras.layers.Dense(128, name='layer2', activation='relu', kernel_initializer=he_initializer, kernel_regularizer=tf.keras.regularizers.l1(0.01)),\n",
    "    tf.keras.layers.BatchNormalization(),\n",
    "    keras.layers.Dense(10, name='logits', activation='softmax')]\n",
    ")\n",
    "model_adam_l1.compile(loss=crossentropy, optimizer=optimizer, metrics=[accuracy, auc_score])\n",
    "model_adam_l1_history = model_adam_l1.fit(\n",
    "    train_images,\n",
    "    train_labels,\n",
    "    batch_size=70,\n",
    "    epochs=10,\n",
    "    verbose=0,\n",
    "    validation_data=(test_images, test_labels),\n",
    "    callbacks=[tensorboard_callback]\n",
    ")\n",
    "print(\"Average test loss: \", np.average(model_adam_l1_history.history['loss']))"
   ]
  },
  {
   "cell_type": "code",
   "execution_count": 35,
   "id": "9d19ab40",
   "metadata": {},
   "outputs": [
    {
     "name": "stdout",
     "output_type": "stream",
     "text": [
      "Average test loss:  0.6890358239412308\n"
     ]
    }
   ],
   "source": [
    "logdir = \"logs/loss_test/\" + 'optimizer_adam_l2'\n",
    "tensorboard_callback = keras.callbacks.TensorBoard(log_dir=logdir)\n",
    "\n",
    "model_adam_l2 = tf.keras.Sequential([\n",
    "    tf.keras.Input(shape=(28*28)),\n",
    "    tf.keras.layers.BatchNormalization(),\n",
    "    keras.layers.Dense(256, name='layer1', activation='relu', kernel_initializer=he_initializer, kernel_regularizer=tf.keras.regularizers.l2(0.01)),\n",
    "    tf.keras.layers.BatchNormalization(),\n",
    "    keras.layers.Dense(128, name='layer2', activation='relu', kernel_initializer=he_initializer, kernel_regularizer=tf.keras.regularizers.l2(0.01)),\n",
    "    tf.keras.layers.BatchNormalization(),\n",
    "    keras.layers.Dense(10, name='logits', activation='softmax')]\n",
    ")\n",
    "model_adam_l2.compile(loss=crossentropy, optimizer=optimizer, metrics=[accuracy, auc_score])\n",
    "model_adam_l2_history = model_adam_l2.fit(\n",
    "    train_images,\n",
    "    train_labels,\n",
    "    batch_size=70,\n",
    "    epochs=10,\n",
    "    verbose=0,\n",
    "    validation_data=(test_images, test_labels),\n",
    "    callbacks=[tensorboard_callback]\n",
    ")\n",
    "print(\"Average test loss: \", np.average(model_adam_l2_history.history['loss']))"
   ]
  },
  {
   "cell_type": "code",
   "execution_count": 36,
   "id": "f35513a9",
   "metadata": {},
   "outputs": [
    {
     "data": {
      "text/plain": [
       "Reusing TensorBoard on port 6006 (pid 12088), started 13:42:35 ago. (Use '!kill 12088' to kill it.)"
      ]
     },
     "metadata": {},
     "output_type": "display_data"
    },
    {
     "data": {
      "text/html": [
       "\n",
       "      <iframe id=\"tensorboard-frame-112041cb8972751d\" width=\"100%\" height=\"800\" frameborder=\"0\">\n",
       "      </iframe>\n",
       "      <script>\n",
       "        (function() {\n",
       "          const frame = document.getElementById(\"tensorboard-frame-112041cb8972751d\");\n",
       "          const url = new URL(\"/\", window.location);\n",
       "          const port = 6006;\n",
       "          if (port) {\n",
       "            url.port = port;\n",
       "          }\n",
       "          frame.src = url;\n",
       "        })();\n",
       "      </script>\n",
       "    "
      ],
      "text/plain": [
       "<IPython.core.display.HTML object>"
      ]
     },
     "metadata": {},
     "output_type": "display_data"
    }
   ],
   "source": [
    "%tensorboard --logdir logs/loss_test"
   ]
  },
  {
   "cell_type": "markdown",
   "id": "0af59798",
   "metadata": {},
   "source": [
    "лучше всего показала на тренеровочных данных модель адама с мини батчами, но на тестовых данных вышла лучше та же машина но с дропаутом, по этому возьмем с дропаутом "
   ]
  },
  {
   "cell_type": "code",
   "execution_count": 37,
   "id": "3d95f048",
   "metadata": {},
   "outputs": [
    {
     "name": "stdout",
     "output_type": "stream",
     "text": [
      "Прогноз: 6  Фактическое число:  6\n"
     ]
    }
   ],
   "source": [
    "predict_value = model_adam_mini_batches_with_dropout.predict(test_images)\n",
    "predict_value = np.argmax(predict_value, axis=1)\n",
    "print(\"Прогноз:\",predict_value[0],\" Фактическое число: \", list(test_labels[0]).index(1))"
   ]
  },
  {
   "cell_type": "code",
   "execution_count": 38,
   "id": "3998d63c",
   "metadata": {},
   "outputs": [
    {
     "data": {
      "text/plain": [
       "<matplotlib.image.AxesImage at 0x287c841f0d0>"
      ]
     },
     "execution_count": 38,
     "metadata": {},
     "output_type": "execute_result"
    },
    {
     "data": {
      "image/png": "[encoded data removed]",
      "text/plain": [
       "<Figure size 432x288 with 1 Axes>"
      ]
     },
     "metadata": {
      "needs_background": "light"
     },
     "output_type": "display_data"
    }
   ],
   "source": [
    "image_8 = np.zeros((28,28))\n",
    "\n",
    "for i in range(image_8.shape[0]):\n",
    "  for j in range(image_8.shape[1]):\n",
    "    if (j==17 or j==18)and 5<i<25:\n",
    "      image_8[i,j]=255.0 \n",
    "plt.imshow(image_8)"
   ]
  },
  {
   "cell_type": "code",
   "execution_count": 39,
   "id": "770d32a3",
   "metadata": {},
   "outputs": [
    {
     "name": "stdout",
     "output_type": "stream",
     "text": [
      "прогноз: 1 фактическое число: 1\n"
     ]
    }
   ],
   "source": [
    "print('прогноз:', np.argmax(model_adam_mini_batches_with_dropout.predict(image_8.reshape(1, 784))), 'фактическое число: 1')"
   ]
  },
  {
   "cell_type": "markdown",
   "id": "7b15a795",
   "metadata": {},
   "source": [
    "**Загружаем 2 датасэт**"
   ]
  },
  {
   "cell_type": "code",
   "execution_count": 40,
   "id": "7a02c00d",
   "metadata": {},
   "outputs": [],
   "source": [
    "import requests\n",
    "\n",
    "try:\n",
    "    from tqdm import tqdm\n",
    "except ImportError:\n",
    "    tqdm = lambda x, total, unit: x  # If tqdm doesn't exist, replace it with a function that does nothing\n",
    "    print('**** Could not import tqdm. Please install tqdm for download progressbars! (pip install tqdm) ****')\n",
    "\n",
    "# Python2 compatibility\n",
    "try:\n",
    "    input = raw_input\n",
    "except NameError:\n",
    "    pass\n",
    "\n",
    "download_dict = {\n",
    "    '1) Kuzushiji-MNIST (10 classes, 28x28, 70k examples)': {\n",
    "        '1) MNIST data format (ubyte.gz)':\n",
    "            ['http://codh.rois.ac.jp/kmnist/dataset/kmnist/train-images-idx3-ubyte.gz',\n",
    "            'http://codh.rois.ac.jp/kmnist/dataset/kmnist/train-labels-idx1-ubyte.gz',\n",
    "            'http://codh.rois.ac.jp/kmnist/dataset/kmnist/t10k-images-idx3-ubyte.gz',\n",
    "            'http://codh.rois.ac.jp/kmnist/dataset/kmnist/t10k-labels-idx1-ubyte.gz'],\n",
    "        '2) NumPy data format (.npz)':\n",
    "            ['http://codh.rois.ac.jp/kmnist/dataset/kmnist/kmnist-train-imgs.npz',\n",
    "            'http://codh.rois.ac.jp/kmnist/dataset/kmnist/kmnist-train-labels.npz',\n",
    "            'http://codh.rois.ac.jp/kmnist/dataset/kmnist/kmnist-test-imgs.npz',\n",
    "            'http://codh.rois.ac.jp/kmnist/dataset/kmnist/kmnist-test-labels.npz'],\n",
    "    },\n",
    "    '2) Kuzushiji-49 (49 classes, 28x28, 270k examples)': {\n",
    "        '1) NumPy data format (.npz)':\n",
    "            ['http://codh.rois.ac.jp/kmnist/dataset/k49/k49-train-imgs.npz',\n",
    "            'http://codh.rois.ac.jp/kmnist/dataset/k49/k49-train-labels.npz',\n",
    "            'http://codh.rois.ac.jp/kmnist/dataset/k49/k49-test-imgs.npz',\n",
    "            'http://codh.rois.ac.jp/kmnist/dataset/k49/k49-test-labels.npz'],\n",
    "    },\n",
    "    '3) Kuzushiji-Kanji (3832 classes, 64x64, 140k examples)': {\n",
    "        '1) Folders of images (.tar)':\n",
    "            ['http://codh.rois.ac.jp/kmnist/dataset/kkanji/kkanji.tar'],\n",
    "    }\n",
    "\n",
    "}\n",
    "\n",
    "# Download a list of files\n",
    "def download_list(url_list):\n",
    "    for url in url_list:\n",
    "        path = url.split('/')[-1]\n",
    "        r = requests.get(url, stream=True)\n",
    "        with open(path, 'wb') as f:\n",
    "            total_length = int(r.headers.get('content-length'))\n",
    "            print('Downloading {} - {:.1f} MB'.format(path, (total_length / 1024000)))\n",
    "\n",
    "            for chunk in tqdm(r.iter_content(chunk_size=1024), total=int(total_length / 1024) + 1, unit=\"KB\"):\n",
    "                if chunk:\n",
    "                    f.write(chunk)\n",
    "    print('All dataset files downloaded!')\n",
    "\n",
    "# Ask the user about which path to take down the dict\n",
    "def traverse_dict(d):\n",
    "    print('Please select a download option:')\n",
    "    keys = sorted(d.keys())  # Print download options\n",
    "    for key in keys:\n",
    "        print(key)\n",
    "\n",
    "    userinput = input('> ').strip()\n",
    "\n",
    "    try:\n",
    "        selection = int(userinput) - 1\n",
    "    except ValueError:\n",
    "        print('Your selection was not valid')\n",
    "        traverse_dict(d)  # Try again if input was not valid\n",
    "        return\n",
    "\n",
    "    selected = keys[selection]\n",
    "\n",
    "    next_level = d[selected]\n",
    "    if isinstance(next_level, list):  # If we've hit a list of downloads, download that list\n",
    "        download_list(next_level)\n",
    "    else:\n",
    "        traverse_dict(next_level)     # Otherwise, repeat with the next level\n",
    "\n",
    "# traverse_dict(download_dict)"
   ]
  },
  {
   "cell_type": "markdown",
   "id": "46834584",
   "metadata": {},
   "source": [
    "**подготавливаем данные для использования**"
   ]
  },
  {
   "cell_type": "code",
   "execution_count": 41,
   "id": "2c0f89c0",
   "metadata": {},
   "outputs": [
    {
     "data": {
      "text/plain": [
       "(232365, 28, 28)"
      ]
     },
     "execution_count": 41,
     "metadata": {},
     "output_type": "execute_result"
    }
   ],
   "source": [
    "kuz_train_images = np.load('k49-train-imgs.npz')['arr_0']\n",
    "kuz_train_images.shape"
   ]
  },
  {
   "cell_type": "code",
   "execution_count": 42,
   "id": "e21ee26e",
   "metadata": {},
   "outputs": [
    {
     "data": {
      "text/plain": [
       "(232365,)"
      ]
     },
     "execution_count": 42,
     "metadata": {},
     "output_type": "execute_result"
    }
   ],
   "source": [
    "kuz_train_labels = np.load('k49-train-labels.npz')['arr_0']\n",
    "kuz_train_labels.shape"
   ]
  },
  {
   "cell_type": "code",
   "execution_count": 43,
   "id": "f2f3f415",
   "metadata": {},
   "outputs": [
    {
     "data": {
      "text/plain": [
       "(38547, 28, 28)"
      ]
     },
     "execution_count": 43,
     "metadata": {},
     "output_type": "execute_result"
    }
   ],
   "source": [
    "kuz_test_images = np.load('k49-test-imgs.npz')['arr_0']\n",
    "kuz_test_images.shape"
   ]
  },
  {
   "cell_type": "code",
   "execution_count": 44,
   "id": "d6d8b773",
   "metadata": {},
   "outputs": [
    {
     "data": {
      "text/plain": [
       "(38547,)"
      ]
     },
     "execution_count": 44,
     "metadata": {},
     "output_type": "execute_result"
    }
   ],
   "source": [
    "kuz_test_labels = np.load('k49-test-labels.npz')['arr_0']\n",
    "kuz_test_labels.shape"
   ]
  },
  {
   "cell_type": "markdown",
   "id": "d955db12",
   "metadata": {},
   "source": [
    "разбиваем данные на тренеровочные и тестовые"
   ]
  },
  {
   "cell_type": "code",
   "execution_count": 45,
   "id": "5eef42f1",
   "metadata": {},
   "outputs": [
    {
     "data": {
      "text/plain": [
       "((216729, 784), (216729, 49), (54183, 784), (54183, 49))"
      ]
     },
     "execution_count": 45,
     "metadata": {},
     "output_type": "execute_result"
    }
   ],
   "source": [
    "kuz_train_images = kuz_train_images.astype(np.float32).reshape(-1,28*28)/255.0\n",
    "kuz_test_images = kuz_test_images.astype(np.float32).reshape(-1,28*28)/255.0\n",
    "\n",
    "num_classes = 49\n",
    "kuz_train_labels = keras.utils.to_categorical(kuz_train_labels, num_classes)\n",
    "kuz_test_labels = keras.utils.to_categorical(kuz_test_labels, num_classes)\n",
    "\n",
    "kuz_train_labels = kuz_train_labels.astype(np.int32)\n",
    "kuz_test_labels = kuz_test_labels.astype(np.int32)\n",
    "\n",
    "full_data_images = np.concatenate([kuz_train_images,kuz_test_images])\n",
    "full_data_labels = np.concatenate([kuz_train_labels,kuz_test_labels])\n",
    "\n",
    "kuzushi_train_images, kuzushi_test_images, kuzushi_train_labels, kuzushi_test_labels = train_test_split(full_data_images,full_data_labels,test_size=0.2)\n",
    "kuzushi_train_images.shape, kuzushi_train_labels.shape, kuzushi_test_images.shape, kuzushi_test_labels.shape"
   ]
  },
  {
   "cell_type": "code",
   "execution_count": 46,
   "id": "3812d6a3",
   "metadata": {},
   "outputs": [
    {
     "name": "stdout",
     "output_type": "stream",
     "text": [
      "Model: \"sequential_8\"\n",
      "_________________________________________________________________\n",
      " Layer (type)                Output Shape              Param #   \n",
      "=================================================================\n",
      " layer1 (Dense)              (None, 128)               100480    \n",
      "                                                                 \n",
      " logits (Dense)              (None, 49)                6321      \n",
      "                                                                 \n",
      "=================================================================\n",
      "Total params: 106,801\n",
      "Trainable params: 106,801\n",
      "Non-trainable params: 0\n",
      "_________________________________________________________________\n"
     ]
    }
   ],
   "source": [
    "model_kuz = keras.Sequential([tf.keras.Input(shape=(28*28)),\n",
    "    keras.layers.Dense(128, name='layer1', activation='relu'),\n",
    "    keras.layers.Dense(49, name='logits', activation='softmax')\n",
    "])\n",
    "model_kuz.summary()"
   ]
  },
  {
   "cell_type": "code",
   "execution_count": 47,
   "id": "2fe34c50",
   "metadata": {},
   "outputs": [],
   "source": [
    "%reload_ext tensorboard  "
   ]
  },
  {
   "cell_type": "markdown",
   "id": "f432f693",
   "metadata": {},
   "source": [
    "выполняем инициализацию для удобства"
   ]
  },
  {
   "cell_type": "code",
   "execution_count": 48,
   "id": "b86d79ce",
   "metadata": {},
   "outputs": [],
   "source": [
    "import tensorflow_addons as tfa\n",
    "learning_rate = 0.01\n",
    "crossentropy = keras.losses.CategoricalCrossentropy()\n",
    "optimizer = keras.optimizers.SGD(learning_rate=learning_rate)\n",
    "accuracy = keras.metrics.CategoricalAccuracy()\n",
    "auc_score = keras.metrics.AUC()\n",
    "f1_score = tfa.metrics.F1Score(num_classes=49)"
   ]
  },
  {
   "cell_type": "markdown",
   "id": "0a06f0ae",
   "metadata": {},
   "source": [
    "компилим и обучаем нашу модель"
   ]
  },
  {
   "cell_type": "code",
   "execution_count": 49,
   "id": "28149828",
   "metadata": {},
   "outputs": [
    {
     "name": "stdout",
     "output_type": "stream",
     "text": [
      "Epoch 1/10\n",
      "6773/6773 [==============================] - 20s 3ms/step - loss: 1.8526 - categorical_accuracy: 0.5598 - auc_1: 0.9385 - f1_score: 0.5067 - val_loss: 1.3957 - val_categorical_accuracy: 0.6562 - val_auc_1: 0.9616 - val_f1_score: 0.6140\n",
      "Epoch 2/10\n",
      "6773/6773 [==============================] - 23s 3ms/step - loss: 1.2590 - categorical_accuracy: 0.6853 - auc_1: 0.9672 - f1_score: 0.6488 - val_loss: 1.1808 - val_categorical_accuracy: 0.7069 - val_auc_1: 0.9702 - val_f1_score: 0.6788\n",
      "Epoch 3/10\n",
      "6773/6773 [==============================] - 20s 3ms/step - loss: 1.0833 - categorical_accuracy: 0.7295 - auc_1: 0.9738 - f1_score: 0.7029 - val_loss: 1.0471 - val_categorical_accuracy: 0.7393 - val_auc_1: 0.9750 - val_f1_score: 0.7186\n",
      "Epoch 4/10\n",
      "6773/6773 [==============================] - 20s 3ms/step - loss: 0.9636 - categorical_accuracy: 0.7581 - auc_1: 0.9782 - f1_score: 0.7362 - val_loss: 0.9485 - val_categorical_accuracy: 0.7635 - val_auc_1: 0.9784 - val_f1_score: 0.7436\n",
      "Epoch 5/10\n",
      "6773/6773 [==============================] - 24s 4ms/step - loss: 0.8757 - categorical_accuracy: 0.7800 - auc_1: 0.9812 - f1_score: 0.7597 - val_loss: 0.8793 - val_categorical_accuracy: 0.7806 - val_auc_1: 0.9805 - val_f1_score: 0.7636\n",
      "Epoch 6/10\n",
      "6773/6773 [==============================] - 23s 3ms/step - loss: 0.8090 - categorical_accuracy: 0.7957 - auc_1: 0.9833 - f1_score: 0.7771 - val_loss: 0.8248 - val_categorical_accuracy: 0.7923 - val_auc_1: 0.9823 - val_f1_score: 0.7757\n",
      "Epoch 7/10\n",
      "6773/6773 [==============================] - 21s 3ms/step - loss: 0.7568 - categorical_accuracy: 0.8082 - auc_1: 0.9849 - f1_score: 0.7910 - val_loss: 0.7805 - val_categorical_accuracy: 0.8026 - val_auc_1: 0.9837 - val_f1_score: 0.7863\n",
      "Epoch 8/10\n",
      "6773/6773 [==============================] - 22s 3ms/step - loss: 0.7147 - categorical_accuracy: 0.8186 - auc_1: 0.9860 - f1_score: 0.8021 - val_loss: 0.7475 - val_categorical_accuracy: 0.8095 - val_auc_1: 0.9844 - val_f1_score: 0.7947\n",
      "Epoch 9/10\n",
      "6773/6773 [==============================] - 21s 3ms/step - loss: 0.6800 - categorical_accuracy: 0.8270 - auc_1: 0.9870 - f1_score: 0.8115 - val_loss: 0.7170 - val_categorical_accuracy: 0.8161 - val_auc_1: 0.9851 - val_f1_score: 0.8018\n",
      "Epoch 10/10\n",
      "6773/6773 [==============================] - 19s 3ms/step - loss: 0.6503 - categorical_accuracy: 0.8336 - auc_1: 0.9877 - f1_score: 0.8186 - val_loss: 0.6949 - val_categorical_accuracy: 0.8225 - val_auc_1: 0.9857 - val_f1_score: 0.8081\n"
     ]
    }
   ],
   "source": [
    "model_kuz.compile(loss=crossentropy, \n",
    "                  optimizer=optimizer, \n",
    "                  metrics=[accuracy, auc_score, f1_score])\n",
    "model_kuz_history = model_kuz.fit(kuzushi_train_images, kuzushi_train_labels, \n",
    "                                  epochs=10, \n",
    "                                  validation_data=(kuzushi_test_images, kuzushi_test_labels))"
   ]
  },
  {
   "cell_type": "markdown",
   "id": "884238f6",
   "metadata": {},
   "source": [
    "узнаем какие есть ключи"
   ]
  },
  {
   "cell_type": "code",
   "execution_count": 50,
   "id": "426003fb",
   "metadata": {},
   "outputs": [
    {
     "data": {
      "text/plain": [
       "dict_keys(['loss', 'categorical_accuracy', 'auc_1', 'f1_score', 'val_loss', 'val_categorical_accuracy', 'val_auc_1', 'val_f1_score'])"
      ]
     },
     "execution_count": 50,
     "metadata": {},
     "output_type": "execute_result"
    }
   ],
   "source": [
    "model_kuz_history.history.keys()"
   ]
  },
  {
   "cell_type": "markdown",
   "id": "7c6d93f1",
   "metadata": {},
   "source": [
    "выводим значения accuracy для тренировочной и тестовой выборки"
   ]
  },
  {
   "cell_type": "code",
   "execution_count": 51,
   "id": "41255d69",
   "metadata": {},
   "outputs": [
    {
     "name": "stdout",
     "output_type": "stream",
     "text": [
      "accuracy: 0.8336401581764221 test accuracy: 0.8225089311599731\n"
     ]
    }
   ],
   "source": [
    "print('accuracy:', model_kuz_history.history['categorical_accuracy'][9], 'test accuracy:', model_kuz_history.history['val_categorical_accuracy'][9])"
   ]
  },
  {
   "cell_type": "markdown",
   "id": "547bc0b5",
   "metadata": {},
   "source": [
    "модель с инициализатором Хе и активатором relu"
   ]
  },
  {
   "cell_type": "code",
   "execution_count": 52,
   "id": "23920bd3",
   "metadata": {},
   "outputs": [
    {
     "name": "stdout",
     "output_type": "stream",
     "text": [
      "Epoch 1/10\n",
      "6773/6773 [==============================] - 27s 4ms/step - loss: 1.6316 - categorical_accuracy: 0.6451 - auc_1: 0.9600 - f1_score: 0.6101 - val_loss: 1.1509 - val_categorical_accuracy: 0.7096 - val_auc_1: 0.9721 - val_f1_score: 0.6828\n",
      "Epoch 2/10\n",
      "6773/6773 [==============================] - 26s 4ms/step - loss: 0.9753 - categorical_accuracy: 0.7505 - auc_1: 0.9783 - f1_score: 0.7242 - val_loss: 0.8872 - val_categorical_accuracy: 0.7736 - val_auc_1: 0.9804 - val_f1_score: 0.7517\n",
      "Epoch 3/10\n",
      "6773/6773 [==============================] - 24s 4ms/step - loss: 0.7779 - categorical_accuracy: 0.7983 - auc_1: 0.9846 - f1_score: 0.7773 - val_loss: 0.7459 - val_categorical_accuracy: 0.8072 - val_auc_1: 0.9848 - val_f1_score: 0.7884\n",
      "Epoch 4/10\n",
      "6773/6773 [==============================] - 27s 4ms/step - loss: 0.6607 - categorical_accuracy: 0.8268 - auc_1: 0.9878 - f1_score: 0.8092 - val_loss: 0.6598 - val_categorical_accuracy: 0.8276 - val_auc_1: 0.9871 - val_f1_score: 0.8116\n",
      "Epoch 5/10\n",
      "6773/6773 [==============================] - 26s 4ms/step - loss: 0.5818 - categorical_accuracy: 0.8473 - auc_1: 0.9897 - f1_score: 0.8318 - val_loss: 0.6049 - val_categorical_accuracy: 0.8404 - val_auc_1: 0.9881 - val_f1_score: 0.8265\n",
      "Epoch 6/10\n",
      "6773/6773 [==============================] - 26s 4ms/step - loss: 0.5240 - categorical_accuracy: 0.8613 - auc_1: 0.9910 - f1_score: 0.8473 - val_loss: 0.5590 - val_categorical_accuracy: 0.8526 - val_auc_1: 0.9891 - val_f1_score: 0.8397\n",
      "Epoch 7/10\n",
      "6773/6773 [==============================] - 26s 4ms/step - loss: 0.4796 - categorical_accuracy: 0.8727 - auc_1: 0.9919 - f1_score: 0.8598 - val_loss: 0.5339 - val_categorical_accuracy: 0.8583 - val_auc_1: 0.9895 - val_f1_score: 0.8459\n",
      "Epoch 8/10\n",
      "6773/6773 [==============================] - 26s 4ms/step - loss: 0.4439 - categorical_accuracy: 0.8822 - auc_1: 0.9927 - f1_score: 0.8710 - val_loss: 0.5160 - val_categorical_accuracy: 0.8630 - val_auc_1: 0.9898 - val_f1_score: 0.8511\n",
      "Epoch 9/10\n",
      "6773/6773 [==============================] - 26s 4ms/step - loss: 0.4142 - categorical_accuracy: 0.8898 - auc_1: 0.9933 - f1_score: 0.8788 - val_loss: 0.4921 - val_categorical_accuracy: 0.8697 - val_auc_1: 0.9905 - val_f1_score: 0.8580\n",
      "Epoch 10/10\n",
      "6773/6773 [==============================] - 28s 4ms/step - loss: 0.3901 - categorical_accuracy: 0.8954 - auc_1: 0.9938 - f1_score: 0.8857 - val_loss: 0.4745 - val_categorical_accuracy: 0.8739 - val_auc_1: 0.9907 - val_f1_score: 0.8632\n",
      "accuracy: 0.8953993320465088 test accuracy: 0.8739457130432129\n"
     ]
    }
   ],
   "source": [
    "he_initializer = tf.keras.initializers.HeNormal()\n",
    "model_kuz_he = tf.keras.Sequential([\n",
    "    tf.keras.Input(shape=(28*28)),\n",
    "    tf.keras.layers.Dense(256, name='layer1', activation='relu', kernel_initializer=he_initializer),\n",
    "    tf.keras.layers.Dense(128, name='layer2', activation='relu', kernel_initializer=he_initializer),\n",
    "    tf.keras.layers.Dense(49, name='logits', activation='softmax')\n",
    "])\n",
    "model_kuz_he.compile(loss=crossentropy, optimizer=optimizer,metrics=[accuracy,auc_score,f1_score])\n",
    "model_kuz_he_history = model_kuz_he.fit(kuzushi_train_images,kuzushi_train_labels,\n",
    "                                        epochs=10,\n",
    "                                        validation_data=(kuzushi_test_images,kuzushi_test_labels))\n",
    "print('accuracy:', model_kuz_he_history.history['categorical_accuracy'][9], 'test accuracy:', \n",
    "      model_kuz_he_history.history['val_categorical_accuracy'][9])"
   ]
  },
  {
   "cell_type": "markdown",
   "id": "2a822037",
   "metadata": {},
   "source": [
    "подбираем значение скорости обучения"
   ]
  },
  {
   "cell_type": "code",
   "execution_count": 53,
   "id": "5a1a8c7a",
   "metadata": {},
   "outputs": [
    {
     "name": "stdout",
     "output_type": "stream",
     "text": [
      "Epoch 1/10\n",
      "6773/6773 [==============================] - 28s 4ms/step - loss: 1.6566 - categorical_accuracy: 0.6498 - auc_1: 0.9609 - f1_score: 0.6168 - val_loss: 1.1601 - val_categorical_accuracy: 0.7114 - val_auc_1: 0.9714 - val_f1_score: 0.6844\n",
      "Epoch 2/10\n",
      "6773/6773 [==============================] - 27s 4ms/step - loss: 0.9851 - categorical_accuracy: 0.7490 - auc_1: 0.9780 - f1_score: 0.7214 - val_loss: 0.8980 - val_categorical_accuracy: 0.7723 - val_auc_1: 0.9806 - val_f1_score: 0.7522\n",
      "Epoch 3/10\n",
      "6773/6773 [==============================] - 26s 4ms/step - loss: 0.7826 - categorical_accuracy: 0.7987 - auc_1: 0.9844 - f1_score: 0.7766 - val_loss: 0.7568 - val_categorical_accuracy: 0.8034 - val_auc_1: 0.9847 - val_f1_score: 0.7848\n",
      "Epoch 4/10\n",
      "6773/6773 [==============================] - 27s 4ms/step - loss: 0.6653 - categorical_accuracy: 0.8270 - auc_1: 0.9876 - f1_score: 0.8089 - val_loss: 0.6750 - val_categorical_accuracy: 0.8217 - val_auc_1: 0.9870 - val_f1_score: 0.8060\n",
      "Epoch 5/10\n",
      "6773/6773 [==============================] - 26s 4ms/step - loss: 0.5861 - categorical_accuracy: 0.8465 - auc_1: 0.9895 - f1_score: 0.8304 - val_loss: 0.6085 - val_categorical_accuracy: 0.8383 - val_auc_1: 0.9883 - val_f1_score: 0.8242\n",
      "Epoch 6/10\n",
      "6773/6773 [==============================] - 29s 4ms/step - loss: 0.5293 - categorical_accuracy: 0.8611 - auc_1: 0.9908 - f1_score: 0.8462 - val_loss: 0.5678 - val_categorical_accuracy: 0.8479 - val_auc_1: 0.9892 - val_f1_score: 0.8348\n",
      "Epoch 7/10\n",
      "6773/6773 [==============================] - 25s 4ms/step - loss: 0.4839 - categorical_accuracy: 0.8723 - auc_1: 0.9919 - f1_score: 0.8590 - val_loss: 0.5334 - val_categorical_accuracy: 0.8587 - val_auc_1: 0.9898 - val_f1_score: 0.8457\n",
      "Epoch 8/10\n",
      "6773/6773 [==============================] - 27s 4ms/step - loss: 0.4486 - categorical_accuracy: 0.8813 - auc_1: 0.9926 - f1_score: 0.8695 - val_loss: 0.5141 - val_categorical_accuracy: 0.8622 - val_auc_1: 0.9900 - val_f1_score: 0.8493\n",
      "Epoch 9/10\n",
      "6773/6773 [==============================] - 28s 4ms/step - loss: 0.4192 - categorical_accuracy: 0.8885 - auc_1: 0.9931 - f1_score: 0.8776 - val_loss: 0.4943 - val_categorical_accuracy: 0.8687 - val_auc_1: 0.9904 - val_f1_score: 0.8571\n",
      "Epoch 10/10\n",
      "6773/6773 [==============================] - 29s 4ms/step - loss: 0.3939 - categorical_accuracy: 0.8948 - auc_1: 0.9937 - f1_score: 0.8841 - val_loss: 0.4761 - val_categorical_accuracy: 0.8722 - val_auc_1: 0.9904 - val_f1_score: 0.8604\n",
      "accuracy: 0.89483642578125 test accuracy: 0.872229278087616\n"
     ]
    }
   ],
   "source": [
    "logdir = \"logs/loss_test/\" + 'kuz_loss_test_0_01'\n",
    "tensorboard_callback = keras.callbacks.TensorBoard(log_dir=logdir)\n",
    "\n",
    "model_kuz_loss_0_01 = tf.keras.Sequential([\n",
    "    tf.keras.Input(shape=(28*28)),\n",
    "    tf.keras.layers.Dense(256, name='layer1', activation='relu', kernel_initializer=he_initializer),\n",
    "    tf.keras.layers.Dense(128, name='layer2', activation='relu', kernel_initializer=he_initializer),\n",
    "    tf.keras.layers.Dense(49, name='logits', activation='softmax')\n",
    "])\n",
    "model_kuz_loss_0_01.compile(loss=crossentropy, optimizer=keras.optimizers.SGD(learning_rate=0.01),metrics=[accuracy,auc_score,f1_score])\n",
    "model_kuz_loss_0_01_history = model_kuz_loss_0_01.fit(kuzushi_train_images,kuzushi_train_labels,\n",
    "                                        epochs=10,\n",
    "                                        validation_data=(kuzushi_test_images,kuzushi_test_labels))\n",
    "print('accuracy:', model_kuz_loss_0_01_history.history['categorical_accuracy'][9], 'test accuracy:', \n",
    "      model_kuz_loss_0_01_history.history['val_categorical_accuracy'][9])"
   ]
  },
  {
   "cell_type": "markdown",
   "id": "c56a3653",
   "metadata": {},
   "source": [
    "выводим данные в виде графиков в tensorboard"
   ]
  },
  {
   "cell_type": "code",
   "execution_count": 54,
   "id": "5ad38415",
   "metadata": {},
   "outputs": [
    {
     "data": {
      "text/plain": [
       "Reusing TensorBoard on port 6006 (pid 12088), started 13:55:06 ago. (Use '!kill 12088' to kill it.)"
      ]
     },
     "metadata": {},
     "output_type": "display_data"
    },
    {
     "data": {
      "text/html": [
       "\n",
       "      <iframe id=\"tensorboard-frame-a9471e7883697b38\" width=\"100%\" height=\"800\" frameborder=\"0\">\n",
       "      </iframe>\n",
       "      <script>\n",
       "        (function() {\n",
       "          const frame = document.getElementById(\"tensorboard-frame-a9471e7883697b38\");\n",
       "          const url = new URL(\"/\", window.location);\n",
       "          const port = 6006;\n",
       "          if (port) {\n",
       "            url.port = port;\n",
       "          }\n",
       "          frame.src = url;\n",
       "        })();\n",
       "      </script>\n",
       "    "
      ],
      "text/plain": [
       "<IPython.core.display.HTML object>"
      ]
     },
     "metadata": {},
     "output_type": "display_data"
    }
   ],
   "source": [
    "%tensorboard --logdir logs/loss_test"
   ]
  },
  {
   "cell_type": "markdown",
   "id": "2ca8ef3e",
   "metadata": {},
   "source": [
    "**модель с активатором leakyrelu**"
   ]
  },
  {
   "cell_type": "code",
   "execution_count": 55,
   "id": "aa5fa4cd",
   "metadata": {},
   "outputs": [
    {
     "name": "stdout",
     "output_type": "stream",
     "text": [
      "Training ... With default parameters, this takes less than 10 seconds.\n",
      "Epoch 1/10\n",
      "6773/6773 [==============================] - 22s 3ms/step - loss: 1.8446 - categorical_accuracy: 0.6222 - auc_1: 0.9546 - val_loss: 1.3861 - val_categorical_accuracy: 0.6575 - val_auc_1: 0.9616\n",
      "Epoch 2/10\n",
      "6773/6773 [==============================] - 21s 3ms/step - loss: 1.2499 - categorical_accuracy: 0.6890 - auc_1: 0.9673 - val_loss: 1.1729 - val_categorical_accuracy: 0.7097 - val_auc_1: 0.9702\n",
      "Epoch 3/10\n",
      "6773/6773 [==============================] - 21s 3ms/step - loss: 1.0754 - categorical_accuracy: 0.7305 - auc_1: 0.9743 - val_loss: 1.0383 - val_categorical_accuracy: 0.7415 - val_auc_1: 0.9755\n",
      "Epoch 4/10\n",
      "6773/6773 [==============================] - 21s 3ms/step - loss: 0.9558 - categorical_accuracy: 0.7597 - auc_1: 0.9786 - val_loss: 0.9435 - val_categorical_accuracy: 0.7632 - val_auc_1: 0.9788\n",
      "Epoch 5/10\n",
      "6773/6773 [==============================] - 21s 3ms/step - loss: 0.8683 - categorical_accuracy: 0.7801 - auc_1: 0.9815 - val_loss: 0.8746 - val_categorical_accuracy: 0.7796 - val_auc_1: 0.9810\n",
      "Epoch 6/10\n",
      "6773/6773 [==============================] - 20s 3ms/step - loss: 0.8015 - categorical_accuracy: 0.7969 - auc_1: 0.9837 - val_loss: 0.8197 - val_categorical_accuracy: 0.7927 - val_auc_1: 0.9825\n",
      "Epoch 7/10\n",
      "6773/6773 [==============================] - 19s 3ms/step - loss: 0.7498 - categorical_accuracy: 0.8094 - auc_1: 0.9851 - val_loss: 0.7777 - val_categorical_accuracy: 0.8023 - val_auc_1: 0.9837\n",
      "Epoch 8/10\n",
      "6773/6773 [==============================] - 20s 3ms/step - loss: 0.7076 - categorical_accuracy: 0.8197 - auc_1: 0.9863 - val_loss: 0.7443 - val_categorical_accuracy: 0.8094 - val_auc_1: 0.9844\n",
      "Epoch 9/10\n",
      "6773/6773 [==============================] - 20s 3ms/step - loss: 0.6734 - categorical_accuracy: 0.8272 - auc_1: 0.9871 - val_loss: 0.7156 - val_categorical_accuracy: 0.8161 - val_auc_1: 0.9851\n",
      "Epoch 10/10\n",
      "6773/6773 [==============================] - 21s 3ms/step - loss: 0.6446 - categorical_accuracy: 0.8345 - auc_1: 0.9879 - val_loss: 0.6895 - val_categorical_accuracy: 0.8220 - val_auc_1: 0.9857\n",
      "accuracy: 0.8344568610191345 test accuracy: 0.8220105767250061\n"
     ]
    }
   ],
   "source": [
    "logdir = \"logs/loss_test/\" + 'kuz_activation_relu'\n",
    "tensorboard_callback = keras.callbacks.TensorBoard(log_dir=logdir)\n",
    "\n",
    "model_kuz_leakyrelu = keras.Sequential([keras.Input(shape=(28*28)),\n",
    "     keras.layers.LeakyReLU(),\n",
    "     keras.layers.Dense(128,name='layer2',activation='relu', kernel_initializer=he_initializer),\n",
    "     keras.layers.Dense(49,name='logits', activation='softmax')])\n",
    "\n",
    "model_kuz_leakyrelu.compile(\n",
    "    loss=crossentropy, # keras.losses.mean_squared_error\n",
    "    optimizer=optimizer,\n",
    "    metrics=[accuracy, auc_score]\n",
    ")\n",
    "\n",
    "print(\"Training ... With default parameters, this takes less than 10 seconds.\")\n",
    "model_kuz_history = model_kuz_leakyrelu.fit(\n",
    "    kuzushi_train_images,\n",
    "    kuzushi_train_labels,\n",
    "    epochs=10,\n",
    "    validation_data=(kuzushi_test_images, kuzushi_test_labels),\n",
    "    callbacks=[tensorboard_callback],\n",
    ")\n",
    "\n",
    "print('accuracy:', model_kuz_history.history['categorical_accuracy'][9], 'test accuracy:', \n",
    "      model_kuz_history.history['val_categorical_accuracy'][9])"
   ]
  },
  {
   "cell_type": "code",
   "execution_count": 56,
   "id": "0271d63e",
   "metadata": {},
   "outputs": [
    {
     "data": {
      "text/plain": [
       "Reusing TensorBoard on port 6006 (pid 12088), started 13:58:33 ago. (Use '!kill 12088' to kill it.)"
      ]
     },
     "metadata": {},
     "output_type": "display_data"
    },
    {
     "data": {
      "text/html": [
       "\n",
       "      <iframe id=\"tensorboard-frame-29d1c58602294caf\" width=\"100%\" height=\"800\" frameborder=\"0\">\n",
       "      </iframe>\n",
       "      <script>\n",
       "        (function() {\n",
       "          const frame = document.getElementById(\"tensorboard-frame-29d1c58602294caf\");\n",
       "          const url = new URL(\"/\", window.location);\n",
       "          const port = 6006;\n",
       "          if (port) {\n",
       "            url.port = port;\n",
       "          }\n",
       "          frame.src = url;\n",
       "        })();\n",
       "      </script>\n",
       "    "
      ],
      "text/plain": [
       "<IPython.core.display.HTML object>"
      ]
     },
     "metadata": {},
     "output_type": "display_data"
    }
   ],
   "source": [
    "%tensorboard --logdir logs/loss_test"
   ]
  },
  {
   "cell_type": "markdown",
   "id": "01a45aed",
   "metadata": {},
   "source": [
    "**модель с оптимизатором адам**"
   ]
  },
  {
   "cell_type": "code",
   "execution_count": 57,
   "id": "03f78a66",
   "metadata": {},
   "outputs": [
    {
     "name": "stdout",
     "output_type": "stream",
     "text": [
      "Training ... With default parameters, this takes less than 10 seconds.\n",
      "Epoch 1/10\n",
      "6773/6773 [==============================] - 31s 4ms/step - loss: 1.4254 - categorical_accuracy: 0.6767 - auc_1: 0.9634 - val_loss: 1.3594 - val_categorical_accuracy: 0.6795 - val_auc_1: 0.9571\n",
      "Epoch 2/10\n",
      "6773/6773 [==============================] - 28s 4ms/step - loss: 1.2738 - categorical_accuracy: 0.6915 - auc_1: 0.9628 - val_loss: 1.3339 - val_categorical_accuracy: 0.6856 - val_auc_1: 0.9595\n",
      "Epoch 3/10\n",
      "6773/6773 [==============================] - 28s 4ms/step - loss: 1.2443 - categorical_accuracy: 0.7043 - auc_1: 0.9640 - val_loss: 1.2992 - val_categorical_accuracy: 0.6989 - val_auc_1: 0.9619\n",
      "Epoch 4/10\n",
      "6773/6773 [==============================] - 26s 4ms/step - loss: 1.2262 - categorical_accuracy: 0.7100 - auc_1: 0.9650 - val_loss: 1.2965 - val_categorical_accuracy: 0.6998 - val_auc_1: 0.9614\n",
      "Epoch 5/10\n",
      "6773/6773 [==============================] - 29s 4ms/step - loss: 1.2238 - categorical_accuracy: 0.7128 - auc_1: 0.9652 - val_loss: 1.3430 - val_categorical_accuracy: 0.6997 - val_auc_1: 0.9606\n",
      "Epoch 6/10\n",
      "6773/6773 [==============================] - 29s 4ms/step - loss: 1.2249 - categorical_accuracy: 0.7127 - auc_1: 0.9652 - val_loss: 1.3786 - val_categorical_accuracy: 0.7023 - val_auc_1: 0.9566\n",
      "Epoch 7/10\n",
      "6773/6773 [==============================] - 29s 4ms/step - loss: 1.2143 - categorical_accuracy: 0.7167 - auc_1: 0.9658 - val_loss: 1.4069 - val_categorical_accuracy: 0.6792 - val_auc_1: 0.9579\n",
      "Epoch 8/10\n",
      "6773/6773 [==============================] - 27s 4ms/step - loss: 1.2226 - categorical_accuracy: 0.7152 - auc_1: 0.9659 - val_loss: 1.3889 - val_categorical_accuracy: 0.7004 - val_auc_1: 0.9608\n",
      "Epoch 9/10\n",
      "6773/6773 [==============================] - 29s 4ms/step - loss: 1.2227 - categorical_accuracy: 0.7156 - auc_1: 0.9656 - val_loss: 1.4225 - val_categorical_accuracy: 0.6947 - val_auc_1: 0.9580\n",
      "Epoch 10/10\n",
      "6773/6773 [==============================] - 46s 7ms/step - loss: 1.2252 - categorical_accuracy: 0.7160 - auc_1: 0.9658 - val_loss: 1.5455 - val_categorical_accuracy: 0.6647 - val_auc_1: 0.9533\n",
      "accuracy: 0.7159817218780518 test accuracy: 0.6647472381591797\n"
     ]
    }
   ],
   "source": [
    "logdir = \"logs/loss_test/\" + 'kuz_adam'\n",
    "tensorboard_callback = keras.callbacks.TensorBoard(log_dir=logdir)\n",
    "\n",
    "optimizer = keras.optimizers.Adam(learning_rate=learning_rate)\n",
    "\n",
    "model_kuz_adam = keras.Sequential([keras.Input(shape=(28*28)),\n",
    "     keras.layers.LeakyReLU(),\n",
    "     keras.layers.Dense(256, name='layer1', activation='relu', kernel_initializer=he_initializer),\n",
    "     keras.layers.Dense(128, name='layer2', activation='relu', kernel_initializer=he_initializer),\n",
    "     keras.layers.Dense(49, name='logits', activation='softmax')])\n",
    "\n",
    "model_kuz_adam.compile(\n",
    "    loss=crossentropy,\n",
    "    optimizer=optimizer,\n",
    "    metrics=[accuracy, auc_score]\n",
    ")\n",
    "\n",
    "print(\"Training ... With default parameters, this takes less than 10 seconds.\")\n",
    "model_kuz_adam_history = model_kuz_adam.fit(\n",
    "    kuzushi_train_images,\n",
    "    kuzushi_train_labels,\n",
    "    epochs=10,\n",
    "    validation_data=(kuzushi_test_images, kuzushi_test_labels),\n",
    "    callbacks=[tensorboard_callback],\n",
    ")\n",
    "\n",
    "print('accuracy:', model_kuz_adam_history.history['categorical_accuracy'][9], 'test accuracy:', \n",
    "      model_kuz_adam_history.history['val_categorical_accuracy'][9])"
   ]
  },
  {
   "cell_type": "markdown",
   "id": "f6c838a6",
   "metadata": {},
   "source": [
    "**модель с оптимизатором адам и мини батчами**"
   ]
  },
  {
   "cell_type": "code",
   "execution_count": 59,
   "id": "66884ab7",
   "metadata": {},
   "outputs": [
    {
     "name": "stdout",
     "output_type": "stream",
     "text": [
      "Training ... With default parameters, this takes less than 10 seconds.\n",
      "Epoch 1/10\n",
      "6773/6773 [==============================] - 43s 6ms/step - loss: 0.9128 - categorical_accuracy: 0.7345 - auc_1: 0.9735 - val_loss: 0.5690 - val_categorical_accuracy: 0.8450 - val_auc_1: 0.9882\n",
      "Epoch 2/10\n",
      "6773/6773 [==============================] - 37s 6ms/step - loss: 0.6214 - categorical_accuracy: 0.8271 - auc_1: 0.9866 - val_loss: 0.5221 - val_categorical_accuracy: 0.8586 - val_auc_1: 0.9880\n",
      "Epoch 3/10\n",
      "6773/6773 [==============================] - 37s 5ms/step - loss: 0.5394 - categorical_accuracy: 0.8485 - auc_1: 0.9888 - val_loss: 0.4666 - val_categorical_accuracy: 0.8723 - val_auc_1: 0.9899\n",
      "Epoch 4/10\n",
      "6773/6773 [==============================] - 36s 5ms/step - loss: 0.4899 - categorical_accuracy: 0.8622 - auc_1: 0.9900 - val_loss: 0.4379 - val_categorical_accuracy: 0.8824 - val_auc_1: 0.9900\n",
      "Epoch 5/10\n",
      "6773/6773 [==============================] - 39s 6ms/step - loss: 0.4596 - categorical_accuracy: 0.8703 - auc_1: 0.9907 - val_loss: 0.4299 - val_categorical_accuracy: 0.8839 - val_auc_1: 0.9898\n",
      "Epoch 6/10\n",
      "6773/6773 [==============================] - 38s 6ms/step - loss: 0.4339 - categorical_accuracy: 0.8774 - auc_1: 0.9913 - val_loss: 0.4293 - val_categorical_accuracy: 0.8873 - val_auc_1: 0.9891\n",
      "Epoch 7/10\n",
      "6773/6773 [==============================] - 43s 6ms/step - loss: 0.4132 - categorical_accuracy: 0.8823 - auc_1: 0.9917 - val_loss: 0.3956 - val_categorical_accuracy: 0.8953 - val_auc_1: 0.9903\n",
      "Epoch 8/10\n",
      "6773/6773 [==============================] - 45s 7ms/step - loss: 0.3988 - categorical_accuracy: 0.8860 - auc_1: 0.9921 - val_loss: 0.4036 - val_categorical_accuracy: 0.8954 - val_auc_1: 0.9898\n",
      "Epoch 9/10\n",
      "6773/6773 [==============================] - 43s 6ms/step - loss: 0.3857 - categorical_accuracy: 0.8903 - auc_1: 0.9924 - val_loss: 0.3868 - val_categorical_accuracy: 0.8988 - val_auc_1: 0.9905\n",
      "Epoch 10/10\n",
      "6773/6773 [==============================] - 41s 6ms/step - loss: 0.3713 - categorical_accuracy: 0.8940 - auc_1: 0.9927 - val_loss: 0.3821 - val_categorical_accuracy: 0.9024 - val_auc_1: 0.9902\n",
      "accuracy: 0.8939505219459534 test accuracy: 0.9024417400360107\n"
     ]
    }
   ],
   "source": [
    "logdir = \"logs/loss_test/\" + 'kuz_adam_mini_batches'\n",
    "tensorboard_callback = keras.callbacks.TensorBoard(log_dir=logdir)\n",
    "\n",
    "model_kuz_adam_mini_batches = keras.Sequential([keras.Input(shape=(28*28)),\n",
    "     keras.layers.BatchNormalization(),\n",
    "     keras.layers.Dense(256, name='layer1', activation='relu', kernel_initializer=he_initializer),\n",
    "     keras.layers.BatchNormalization(),\n",
    "     keras.layers.Dense(128, name='layer2', activation='relu', kernel_initializer=he_initializer),\n",
    "     keras.layers.BatchNormalization(),\n",
    "     keras.layers.Dense(49, name='logits', activation='softmax')])\n",
    "\n",
    "model_kuz_adam_mini_batches.compile(\n",
    "    loss=crossentropy,\n",
    "    optimizer=optimizer,\n",
    "    metrics=[accuracy, auc_score]\n",
    ")\n",
    "\n",
    "print(\"Training ... With default parameters, this takes less than 10 seconds.\")\n",
    "model_kuz_adam_mini_batches_history = model_kuz_adam_mini_batches.fit(\n",
    "    kuzushi_train_images,\n",
    "    kuzushi_train_labels,\n",
    "    epochs=10,\n",
    "    validation_data=(kuzushi_test_images, kuzushi_test_labels),\n",
    "    callbacks=[tensorboard_callback],\n",
    ")\n",
    "\n",
    "print('accuracy:', model_kuz_adam_mini_batches_history.history['categorical_accuracy'][9], 'test accuracy:', \n",
    "      model_kuz_adam_mini_batches_history.history['val_categorical_accuracy'][9])"
   ]
  },
  {
   "cell_type": "code",
   "execution_count": 60,
   "id": "be27c1aa",
   "metadata": {},
   "outputs": [
    {
     "data": {
      "text/plain": [
       "Reusing TensorBoard on port 6006 (pid 12088), started 14:27:44 ago. (Use '!kill 12088' to kill it.)"
      ]
     },
     "metadata": {},
     "output_type": "display_data"
    },
    {
     "data": {
      "text/html": [
       "\n",
       "      <iframe id=\"tensorboard-frame-2696fe4fa98364f7\" width=\"100%\" height=\"800\" frameborder=\"0\">\n",
       "      </iframe>\n",
       "      <script>\n",
       "        (function() {\n",
       "          const frame = document.getElementById(\"tensorboard-frame-2696fe4fa98364f7\");\n",
       "          const url = new URL(\"/\", window.location);\n",
       "          const port = 6006;\n",
       "          if (port) {\n",
       "            url.port = port;\n",
       "          }\n",
       "          frame.src = url;\n",
       "        })();\n",
       "      </script>\n",
       "    "
      ],
      "text/plain": [
       "<IPython.core.display.HTML object>"
      ]
     },
     "metadata": {},
     "output_type": "display_data"
    }
   ],
   "source": [
    "%tensorboard --logdir logs/loss_test"
   ]
  },
  {
   "cell_type": "markdown",
   "id": "83c9dd09",
   "metadata": {},
   "source": [
    "**модель с оптимизатором адам и дроп аутом**"
   ]
  },
  {
   "cell_type": "code",
   "execution_count": 64,
   "id": "ba6e6fe0",
   "metadata": {},
   "outputs": [
    {
     "name": "stdout",
     "output_type": "stream",
     "text": [
      "Training ... With default parameters, this takes less than 10 seconds.\n",
      "Epoch 1/10\n",
      "6773/6773 [==============================] - 25s 4ms/step - loss: 3.1768 - categorical_accuracy: 0.3193 - auc_1: 0.8770 - val_loss: 2.5531 - val_categorical_accuracy: 0.2882 - val_auc_1: 0.8915\n",
      "Epoch 2/10\n",
      "6773/6773 [==============================] - 22s 3ms/step - loss: 2.5915 - categorical_accuracy: 0.3009 - auc_1: 0.8840 - val_loss: 2.2349 - val_categorical_accuracy: 0.4018 - val_auc_1: 0.9180\n",
      "Epoch 3/10\n",
      "6773/6773 [==============================] - 22s 3ms/step - loss: 2.4021 - categorical_accuracy: 0.3478 - auc_1: 0.9010 - val_loss: 2.1266 - val_categorical_accuracy: 0.4175 - val_auc_1: 0.9266\n",
      "Epoch 4/10\n",
      "6773/6773 [==============================] - 22s 3ms/step - loss: 2.3306 - categorical_accuracy: 0.3663 - auc_1: 0.9076 - val_loss: 2.0991 - val_categorical_accuracy: 0.4247 - val_auc_1: 0.9280\n",
      "Epoch 5/10\n",
      "6773/6773 [==============================] - 27s 4ms/step - loss: 2.2743 - categorical_accuracy: 0.3850 - auc_1: 0.9113 - val_loss: 1.9901 - val_categorical_accuracy: 0.4564 - val_auc_1: 0.9349\n",
      "Epoch 6/10\n",
      "6773/6773 [==============================] - 22s 3ms/step - loss: 2.2216 - categorical_accuracy: 0.4004 - auc_1: 0.9149 - val_loss: 1.9550 - val_categorical_accuracy: 0.4740 - val_auc_1: 0.9362\n",
      "Epoch 7/10\n",
      "6773/6773 [==============================] - 21s 3ms/step - loss: 2.1662 - categorical_accuracy: 0.4183 - auc_1: 0.9184 - val_loss: 1.8800 - val_categorical_accuracy: 0.5080 - val_auc_1: 0.9414\n",
      "Epoch 8/10\n",
      "6773/6773 [==============================] - 24s 4ms/step - loss: 2.1300 - categorical_accuracy: 0.4297 - auc_1: 0.9211 - val_loss: 1.8733 - val_categorical_accuracy: 0.5031 - val_auc_1: 0.9414\n",
      "Epoch 9/10\n",
      "6773/6773 [==============================] - 22s 3ms/step - loss: 2.0994 - categorical_accuracy: 0.4406 - auc_1: 0.9231 - val_loss: 1.8262 - val_categorical_accuracy: 0.5222 - val_auc_1: 0.9433\n",
      "Epoch 10/10\n",
      "6773/6773 [==============================] - 22s 3ms/step - loss: 2.0880 - categorical_accuracy: 0.4459 - auc_1: 0.9234 - val_loss: 1.8170 - val_categorical_accuracy: 0.5261 - val_auc_1: 0.9433\n",
      "accuracy: 0.4459070861339569 test accuracy: 0.5261428952217102\n"
     ]
    }
   ],
   "source": [
    "logdir = \"logs/loss_test/\" + 'kuz_adam_dropout'\n",
    "tensorboard_callback = keras.callbacks.TensorBoard(log_dir=logdir)\n",
    "\n",
    "model_kuz_adam_dropout = keras.Sequential([keras.Input(shape=(28*28)),\n",
    "     keras.layers.Dense(256, name='layer1', activation='relu', kernel_initializer=he_initializer),\n",
    "     keras.layers.Dropout(0.2),\n",
    "     keras.layers.Dense(128, name='layer2', activation='relu', kernel_initializer=he_initializer),\n",
    "     keras.layers.Dense(49, name='logits', activation='softmax')])\n",
    "\n",
    "model_kuz_adam_dropout.compile(\n",
    "    loss=crossentropy,\n",
    "    optimizer=optimizer,\n",
    "    metrics=[accuracy, auc_score]\n",
    ")\n",
    "\n",
    "print(\"Training ... With default parameters, this takes less than 10 seconds.\")\n",
    "model_kuz_adam_dropout_history = model_kuz_adam_dropout.fit(\n",
    "    kuzushi_train_images,\n",
    "    kuzushi_train_labels,\n",
    "    epochs=10,\n",
    "    validation_data=(kuzushi_test_images, kuzushi_test_labels),\n",
    "    callbacks=[tensorboard_callback],\n",
    ")\n",
    "\n",
    "print('accuracy:', model_kuz_adam_dropout_history.history['categorical_accuracy'][9], 'test accuracy:', \n",
    "      model_kuz_adam_dropout_history.history['val_categorical_accuracy'][9])"
   ]
  },
  {
   "cell_type": "code",
   "execution_count": null,
   "id": "b47c47f5",
   "metadata": {},
   "outputs": [
    {
     "name": "stdout",
     "output_type": "stream",
     "text": [
      "Training ... With default parameters, this takes less than 10 seconds.\n",
      "Epoch 1/10\n",
      "6773/6773 [==============================] - 23s 3ms/step - loss: 2.5935 - categorical_accuracy: 0.3574 - auc_1: 0.8941 - val_loss: 2.0871 - val_categorical_accuracy: 0.4316 - val_auc_1: 0.9270\n",
      "Epoch 2/10\n",
      "6773/6773 [==============================] - 22s 3ms/step - loss: 2.0865 - categorical_accuracy: 0.4415 - auc_1: 0.9244 - val_loss: 1.8958 - val_categorical_accuracy: 0.5019 - val_auc_1: 0.9391\n",
      "Epoch 3/10\n",
      "6773/6773 [==============================] - 24s 4ms/step - loss: 1.9421 - categorical_accuracy: 0.4821 - auc_1: 0.9332 - val_loss: 1.7474 - val_categorical_accuracy: 0.5328 - val_auc_1: 0.9466\n",
      "Epoch 4/10\n",
      "6773/6773 [==============================] - 24s 4ms/step - loss: 1.8648 - categorical_accuracy: 0.5051 - auc_1: 0.9374 - val_loss: 1.7842 - val_categorical_accuracy: 0.5276 - val_auc_1: 0.9426\n",
      "Epoch 5/10\n",
      "3833/6773 [===============>..............] - ETA: 9s - loss: 1.8252 - categorical_accuracy: 0.5164 - auc_1: 0.9396"
     ]
    }
   ],
   "source": [
    "logdir = \"logs/loss_test/\" + 'kuz_adam_dropout_1'\n",
    "tensorboard_callback = keras.callbacks.TensorBoard(log_dir=logdir)\n",
    "\n",
    "model_kuz_adam_dropout_1 = keras.Sequential([keras.Input(shape=(28*28)),\n",
    "     keras.layers.Dense(256, name='layer1', activation='relu', kernel_initializer=he_initializer),\n",
    "     keras.layers.Dropout(0.1),\n",
    "     keras.layers.Dense(128, name='layer2', activation='relu', kernel_initializer=he_initializer),\n",
    "     keras.layers.Dense(49, name='logits', activation='softmax')])\n",
    "\n",
    "model_kuz_adam_dropout_1.compile(\n",
    "    loss=crossentropy,\n",
    "    optimizer=optimizer,\n",
    "    metrics=[accuracy, auc_score]\n",
    ")\n",
    "\n",
    "print(\"Training ... With default parameters, this takes less than 10 seconds.\")\n",
    "model_kuz_adam_dropout_1_history = model_kuz_adam_dropout_1.fit(\n",
    "    kuzushi_train_images,\n",
    "    kuzushi_train_labels,\n",
    "    epochs=10,\n",
    "    validation_data=(kuzushi_test_images, kuzushi_test_labels),\n",
    "    callbacks=[tensorboard_callback],\n",
    ")\n",
    "\n",
    "print('accuracy:', model_kuz_adam_dropout_1_history.history['categorical_accuracy'][9], 'test accuracy:', \n",
    "      model_kuz_adam_dropout_1_history.history['val_categorical_accuracy'][9])"
   ]
  },
  {
   "cell_type": "code",
   "execution_count": null,
   "id": "570c280a",
   "metadata": {},
   "outputs": [],
   "source": [
    "%tensorboard --logdir logs/loss_test"
   ]
  },
  {
   "cell_type": "code",
   "execution_count": null,
   "id": "388df57b",
   "metadata": {},
   "outputs": [],
   "source": [
    "from tensorflow.keras.callbacks import EarlyStopping"
   ]
  },
  {
   "cell_type": "markdown",
   "id": "0c460923",
   "metadata": {},
   "source": [
    "**модель с регуляризатором ранней остановки**"
   ]
  },
  {
   "cell_type": "code",
   "execution_count": null,
   "id": "c5527f1d",
   "metadata": {},
   "outputs": [],
   "source": [
    "\n",
    "logdir = \"logs/loss_test/\" + 'kuz_adam_early_stopping'\n",
    "tensorboard_callback = keras.callbacks.TensorBoard(log_dir=logdir)\n",
    "\n",
    "model_kuz_adam_early_stopping = keras.Sequential([keras.Input(shape=(28*28)),\n",
    "     keras.layers.Dense(256, name='layer1', activation='relu', kernel_initializer=he_initializer),\n",
    "     keras.layers.Dense(128, name='layer2', activation='relu', kernel_initializer=he_initializer),\n",
    "     keras.layers.Dense(49, name='logits', activation='softmax')])\n",
    "\n",
    "model_kuz_adam_early_stopping.compile(\n",
    "    loss=crossentropy,\n",
    "    optimizer=optimizer,\n",
    "    metrics=[accuracy, auc_score]\n",
    ")\n",
    "\n",
    "print(\"Training ... With default parameters, this takes less than 10 seconds.\")\n",
    "model_kuz_adam_early_stopping_history = model_kuz_adam_early_stopping.fit(\n",
    "    kuzushi_train_images,\n",
    "    kuzushi_train_labels,\n",
    "    epochs=10,\n",
    "    validation_data=(kuzushi_test_images, kuzushi_test_labels),\n",
    "    callbacks=[EarlyStopping()],\n",
    ")\n",
    "\n",
    "print('accuracy:', model_kuz_adam_early_stopping_history.history['categorical_accuracy'][1], 'test accuracy:', \n",
    "      model_kuz_adam_early_stopping_history.history['val_categorical_accuracy'][1])"
   ]
  },
  {
   "cell_type": "markdown",
   "id": "afb7f721",
   "metadata": {},
   "source": [
    "**модели с регуляризатором l1 и l2**"
   ]
  },
  {
   "cell_type": "code",
   "execution_count": null,
   "id": "0fd3d4d8",
   "metadata": {},
   "outputs": [],
   "source": [
    "logdir = \"logs/loss_test/\" + 'kuz_adam_l1'\n",
    "tensorboard_callback = keras.callbacks.TensorBoard(log_dir=logdir)\n",
    "\n",
    "model_kuz_adam_l1 = keras.Sequential([keras.Input(shape=(28*28)),\n",
    "     keras.layers.Dense(256, name='layer1', activation='relu', kernel_initializer=he_initializer, kernel_regularizer=keras.regularizers.l1(0.01)),\n",
    "     keras.layers.Dense(128, name='layer2', activation='relu', kernel_initializer=he_initializer, kernel_regularizer=keras.regularizers.l1(0.01)),\n",
    "     keras.layers.Dense(49, name='logits', activation='softmax')])\n",
    "\n",
    "model_kuz_adam_l1.compile(\n",
    "    loss=crossentropy,\n",
    "    optimizer=optimizer,\n",
    "    metrics=[accuracy, auc_score]\n",
    ")\n",
    "\n",
    "print(\"Training ... With default parameters, this takes less than 10 seconds.\")\n",
    "model_kuz_adam_l1_history = model_kuz_adam_l1.fit(\n",
    "    kuzushi_train_images,\n",
    "    kuzushi_train_labels,\n",
    "    epochs=10,\n",
    "    validation_data=(kuzushi_test_images, kuzushi_test_labels),\n",
    "    callbacks=[tensorboard_callback],\n",
    ")\n",
    "\n",
    "print('accuracy:', model_kuz_adam_l1_history.history['categorical_accuracy'][9], 'test accuracy:', \n",
    "      model_kuz_adam_l1_history.history['val_categorical_accuracy'][9])"
   ]
  },
  {
   "cell_type": "code",
   "execution_count": null,
   "id": "7b85dbf3",
   "metadata": {},
   "outputs": [],
   "source": [
    "logdir = \"logs/loss_test/\" + 'kuz_adam_l1'\n",
    "tensorboard_callback = keras.callbacks.TensorBoard(log_dir=logdir)\n",
    "\n",
    "model_kuz_adam_l2 = keras.Sequential([keras.Input(shape=(28*28)),\n",
    "     keras.layers.Dense(256, name='layer1', activation='relu', kernel_initializer=he_initializer, kernel_regularizer=keras.regularizers.l2(0.01)),\n",
    "     keras.layers.Dense(128, name='layer2', activation='relu', kernel_initializer=he_initializer, kernel_regularizer=keras.regularizers.l2(0.01)),\n",
    "     keras.layers.Dense(49, name='logits', activation='softmax')])\n",
    "\n",
    "model_kuz_adam_l2.compile(\n",
    "    loss=crossentropy,\n",
    "    optimizer=optimizer,\n",
    "    metrics=[accuracy, auc_score]\n",
    ")\n",
    "\n",
    "print(\"Training ... With default parameters, this takes less than 10 seconds.\")\n",
    "model_kuz_adam_l2_history = model_kuz_adam_l2.fit(\n",
    "    kuzushi_train_images,\n",
    "    kuzushi_train_labels,\n",
    "    epochs=10,\n",
    "    validation_data=(kuzushi_test_images, kuzushi_test_labels),\n",
    "    callbacks=[tensorboard_callback],\n",
    ")\n",
    "\n",
    "print('accuracy:', model_kuz_adam_l2_history.history['categorical_accuracy'][9], 'test accuracy:', \n",
    "      model_kuz_adam_l2_history.history['val_categorical_accuracy'][9])"
   ]
  },
  {
   "cell_type": "code",
   "execution_count": null,
   "id": "85eddae7",
   "metadata": {},
   "outputs": [],
   "source": [
    "%tensorboard --logdir logs/loss_test --host localhost"
   ]
  },
  {
   "cell_type": "code",
   "execution_count": null,
   "id": "399a9c3b",
   "metadata": {},
   "outputs": [],
   "source": []
  }
 ],
 "metadata": {
  "kernelspec": {
   "display_name": "Python 3",
   "language": "python",
   "name": "python3"
  },
  "language_info": {
   "codemirror_mode": {
    "name": "ipython",
    "version": 3
   },
   "file_extension": ".py",
   "mimetype": "text/x-python",
   "name": "python",
   "nbconvert_exporter": "python",
   "pygments_lexer": "ipython3",
   "version": "3.8.8"
  }
 },
 "nbformat": 4,
 "nbformat_minor": 5
}
