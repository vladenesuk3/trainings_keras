{
 "cells": [
  {
   "cell_type": "code",
   "execution_count": 1,
   "id": "7b7d432b",
   "metadata": {},
   "outputs": [],
   "source": [
    "import numpy as np\n",
    "import matplotlib.pyplot as plt\n",
    "import pandas as pd\n",
    "from sklearn.model_selection import train_test_split"
   ]
  },
  {
   "cell_type": "code",
   "execution_count": 30,
   "id": "b168387b",
   "metadata": {},
   "outputs": [],
   "source": [
    "class Csv_preprocessing():\n",
    "    def __init__(self, dataset):\n",
    "        self.dataset = pd.DataFrame(data=dataset)\n",
    "    \n",
    "    def describe(self):\n",
    "        print(self.dataset.describe().transpose())\n",
    "        \n",
    "    def head_tail(self, head=True):\n",
    "        if head is not True:\n",
    "            print(self.dataset.tail())\n",
    "        else:\n",
    "            print(self.dataset.head())\n",
    "            \n",
    "    def return_train_test_split(self, label, train_test_split_size=0.2):\n",
    "        print(self.dataset.shape)\n",
    "        train_labels = self.dataset.pop(label)\n",
    "        train_features = self.dataset\n",
    "        print(train_features.shape)\n",
    "        train_features_split, test_features_split, train_labels_split, test_labels_split = train_test_split(train_features, train_labels, test_size=train_test_split_size)\n",
    "        print('Train features shape:', train_features_split.shape, 'Test features shape:', test_features_split.shape, 'Train labels shape:', train_labels_split.shape, 'Tets labels shape:', test_labels_split.shape)\n",
    "        return train_features_split, test_features_split, train_labels_split, test_labels_split\n",
    "        \n",
    "        "
   ]
  }
 ],
 "metadata": {
  "kernelspec": {
   "display_name": "Python 3",
   "language": "python",
   "name": "python3"
  },
  "language_info": {
   "codemirror_mode": {
    "name": "ipython",
    "version": 3
   },
   "file_extension": ".py",
   "mimetype": "text/x-python",
   "name": "python",
   "nbconvert_exporter": "python",
   "pygments_lexer": "ipython3",
   "version": "3.8.8"
  }
 },
 "nbformat": 4,
 "nbformat_minor": 5
}
